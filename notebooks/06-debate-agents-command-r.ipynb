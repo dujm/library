{
 "cells": [
  {
   "cell_type": "markdown",
   "id": "96d1396c-463a-458a-b745-90dd6e8a0603",
   "metadata": {
    "jp-MarkdownHeadingCollapsed": true
   },
   "source": [
    "# About\n",
    " * This notebook uses **LLM agents** to mimic a debate.\n",
    "\n",
    "#### a) LLM Agents\n",
    "   * **Moderator** Agent: who introduces the topic.\n",
    "   * **Affirmative and Opposing Agents**: who take part in the debate.\n",
    "\n",
    "    \n",
    "#### b) Debate\n",
    "   * The moderator introduces the debate topic (e.g., `The impact of a region's culture on sports`).\n",
    "   * In each debate round, the Opposing Agent starts. Then the Affirmative Agent follows.\n",
    "   * In total, there are three rounds of debate.\n",
    "   * The debate agents use information from `wikipedia` to support theim claims.\n",
    "\n",
    "\n",
    "#### c) Technical background\n",
    " * **Cohere's `command-r` LLM model** is selected. \n",
    " * **[Langchain](https://python.langchain.com/docs/integrations/providers/cohere/)**, a framework to build LLM-powered applications, is used to create agents.\n",
    " * Most of the code is from [Two Agent Debates with Tools](https://github.com/langchain-ai/langchain/blob/master/cookbook/two_agent_debate_tools.ipynb). Adjustments are made to model, agent, and output.\n",
    "\n"
   ]
  },
  {
   "cell_type": "markdown",
   "id": "96f35b71-7ac6-46ab-93f7-e5c050a0cb8c",
   "metadata": {},
   "source": [
    "# 1. Settings"
   ]
  },
  {
   "cell_type": "markdown",
   "id": "f5736cd7-882f-4588-af74-56467f40046f",
   "metadata": {},
   "source": [
    "### To use Cohere's `command-r` LLM model\n",
    " * get an API key from https://cohere.com"
   ]
  },
  {
   "cell_type": "markdown",
   "id": "5efc0ac5-87f8-49d5-9324-7f905f1c98ec",
   "metadata": {},
   "source": [
    "### Packages"
   ]
  },
  {
   "cell_type": "code",
   "execution_count": 1,
   "id": "b03ddcba-8bc9-43c4-be8a-b0bf94d637d6",
   "metadata": {},
   "outputs": [],
   "source": [
    "# install the packages if they are not installed yet \n",
    "\n",
    "#%pip install langchain-cohere\n",
    "\n",
    "#%pip install wikipedia"
   ]
  },
  {
   "cell_type": "code",
   "execution_count": 2,
   "id": "3fe2f679-f2a6-410f-a122-6920e68d0e89",
   "metadata": {},
   "outputs": [
    {
     "data": {
      "text/plain": [
       "True"
      ]
     },
     "execution_count": 2,
     "metadata": {},
     "output_type": "execute_result"
    }
   ],
   "source": [
    "from typing import Callable, List\n",
    "\n",
    "# for using model through langchain_cohere\n",
    "from langchain_cohere.chat_models import ChatCohere\n",
    "from langchain_cohere.react_multi_hop.agent import create_cohere_react_agent\n",
    "\n",
    "# for prompting\n",
    "from langchain_core.prompts import ChatPromptTemplate\n",
    "\n",
    "# for agents\n",
    "from langchain.agents import AgentExecutor, AgentType, load_tools\n",
    "from langchain import LLMChain, hub\n",
    "from langchain.schema import AIMessage, HumanMessage, SystemMessage\n",
    "\n",
    "\n",
    "# load the .env file (for saving API keys, see details in `.env_example file`)\n",
    "import dotenv\n",
    "dotenv.load_dotenv()\n"
   ]
  },
  {
   "cell_type": "markdown",
   "id": "30049abc-b464-45af-86f1-9a966edbde71",
   "metadata": {},
   "source": [
    "# 2. What are the requirements for a debate?"
   ]
  },
  {
   "cell_type": "markdown",
   "id": "8aa13c7a-185f-4d2b-8377-711d6a6b503c",
   "metadata": {},
   "source": [
    "### 1) Topic"
   ]
  },
  {
   "cell_type": "code",
   "execution_count": 3,
   "id": "9006b49f-8f90-4a6c-a81f-2ab9704b7f82",
   "metadata": {},
   "outputs": [],
   "source": [
    "topic = \"The impact of a region's culture on sports\"\n",
    "word_limit = 50  # word limit for task brainstorming"
   ]
  },
  {
   "cell_type": "markdown",
   "id": "e6f3ad6c-7444-432e-a917-308bb56b58bf",
   "metadata": {},
   "source": [
    "### 2) LLM model (the brains of the agents)"
   ]
  },
  {
   "cell_type": "code",
   "execution_count": 4,
   "id": "d6e0713e-14e2-4e9b-bb7d-71797a5787a9",
   "metadata": {},
   "outputs": [],
   "source": [
    "# model id\n",
    "llm_model_id = \"command-r\"\n",
    "\n",
    "# llm model\n",
    "llm = ChatCohere(model=llm_model_id,temperature=0)"
   ]
  },
  {
   "cell_type": "markdown",
   "id": "29c0151d-25c6-4c02-8681-3e1ad8a6652a",
   "metadata": {},
   "source": [
    "### 3) Tools (to search for information)"
   ]
  },
  {
   "cell_type": "code",
   "execution_count": 5,
   "id": "33e46ebb-048c-420b-837c-882b96fa68e4",
   "metadata": {},
   "outputs": [],
   "source": [
    "# wikipedia\n",
    "tools =['wikipedia']"
   ]
  },
  {
   "cell_type": "markdown",
   "id": "ba1e852d-9018-4125-93a9-4c65777e7ee2",
   "metadata": {},
   "source": [
    "### 4) Classes and Functions to create agents and simulate a debate"
   ]
  },
  {
   "cell_type": "markdown",
   "id": "121e900e-09a4-461b-acdc-0c472b2c0137",
   "metadata": {},
   "source": [
    "#### DebateAgent: to create agents who can have a debate"
   ]
  },
  {
   "cell_type": "code",
   "execution_count": 6,
   "id": "819c4a83-c599-4280-9961-13374053e235",
   "metadata": {},
   "outputs": [],
   "source": [
    "# class DebateAgent \n",
    "class DebateAgent:\n",
    "    def __init__(\n",
    "        self,\n",
    "        name: str,\n",
    "        system_message: SystemMessage,\n",
    "        model: llm,\n",
    "    ) -> None:\n",
    "        self.name = name\n",
    "        self.system_message = system_message\n",
    "        self.model = model\n",
    "        self.prefix = f\"{self.name}: \"\n",
    "        self.reset()\n",
    "\n",
    "    def reset(self):\n",
    "        self.message_history = [\"Here is the conversation so far.\"]\n",
    "\n",
    "    def send(self) -> str:\n",
    "        \"\"\"\n",
    "        Applies the chatmodel to the message history\n",
    "        and returns the message string\n",
    "        \"\"\"\n",
    "        message = self.model(\n",
    "            [\n",
    "                self.system_message,\n",
    "                HumanMessage(content=\"\\n\".join(self.message_history + [self.prefix])),\n",
    "            ]\n",
    "        )\n",
    "        return message.content\n",
    "\n",
    "    def receive(self, name: str, message: str) -> None:\n",
    "        \"\"\"\n",
    "        Concatenates {message} spoken by {name} into message history\n",
    "        \"\"\"\n",
    "        self.message_history.append(f\"{name}: {message}\")"
   ]
  },
  {
   "cell_type": "markdown",
   "id": "660d2a69-f5e5-4cdf-9610-6e6910945e71",
   "metadata": {},
   "source": [
    "#### DebateAgentWithTools: to create agents who can use tools"
   ]
  },
  {
   "cell_type": "code",
   "execution_count": 7,
   "id": "8711be68-2776-4c21-b009-de79e6d62e6b",
   "metadata": {},
   "outputs": [],
   "source": [
    "# class DebateAgentWithTools\n",
    "class DebateAgentWithTools(DebateAgent):\n",
    "    def __init__(\n",
    "        self,\n",
    "        name: str,\n",
    "        system_message: SystemMessage,\n",
    "        model: llm,\n",
    "        tool_names: List[str],\n",
    "        **tool_kwargs,\n",
    "    ) -> None:\n",
    "        super().__init__(name, system_message, model)\n",
    "        self.tools = load_tools(tool_names, **tool_kwargs)\n",
    "\n",
    "    def send(self) -> str:\n",
    "        \"\"\"\n",
    "        Applies the chatmodel to the message history\n",
    "        and returns the message string\n",
    "        \"\"\"\n",
    "        agent = create_cohere_react_agent(\n",
    "            llm=self.model,\n",
    "            tools=self.tools, \n",
    "            prompt=ChatPromptTemplate.from_template(\"{input}\"),\n",
    "        )\n",
    "\n",
    "        agent_executor = AgentExecutor(agent=agent, \n",
    "                                       tools=self.tools, \n",
    "                                       intermediate_steps=False,\n",
    "                                       verbose=False,\n",
    "                                        handle_parsing_errors=True)\n",
    "\n",
    "        \n",
    "        # input\n",
    "        input_text =\"\\n\".join(\n",
    "                    [self.system_message.content] + self.message_history + [self.prefix]\n",
    "                )\n",
    "\n",
    "        # chat\n",
    "        content=agent_executor.invoke(\n",
    "                {\"input\":input_text})\n",
    "        return content[\"output\"]\n"
   ]
  },
  {
   "cell_type": "markdown",
   "id": "5877f5f9-4713-4c24-8f86-7a86f18d18e3",
   "metadata": {},
   "source": [
    "#### DebateSimulator: to simulate a debate"
   ]
  },
  {
   "cell_type": "code",
   "execution_count": 8,
   "id": "bb1b0d81-57ae-45ac-9ba6-e313448c65a5",
   "metadata": {},
   "outputs": [],
   "source": [
    "# class debateSimulator\n",
    "class DebateSimulator:\n",
    "    def __init__(\n",
    "        self,\n",
    "        agents: List[DebateAgent],\n",
    "        selection_function: Callable[[int, List[DebateAgent]], int],\n",
    "    ) -> None:\n",
    "        self.agents = agents\n",
    "        self._step = 0\n",
    "        self.select_next_speaker = selection_function\n",
    "\n",
    "    def reset(self):\n",
    "        for agent in self.agents:\n",
    "            agent.reset()\n",
    "\n",
    "    def inject(self, name: str, message: str):\n",
    "        \"\"\"\n",
    "        Initiates the conversation with a {message} from {name}\n",
    "        \"\"\"\n",
    "        for agent in self.agents:\n",
    "            agent.receive(name, message)\n",
    "\n",
    "        # increment time\n",
    "        self._step += 1\n",
    "\n",
    "    def step(self) -> tuple[str, str]:\n",
    "        # 1. choose the next speaker\n",
    "        speaker_idx = self.select_next_speaker(self._step, self.agents)\n",
    "        speaker = self.agents[speaker_idx]\n",
    "\n",
    "        # 2. next speaker sends message\n",
    "        message = speaker.send()\n",
    "\n",
    "        # 3. everyone receives message\n",
    "        for receiver in self.agents:\n",
    "            receiver.receive(speaker.name, message)\n",
    "\n",
    "        # 4. increment time\n",
    "        self._step += 1\n",
    "\n",
    "        return speaker.name, message"
   ]
  },
  {
   "cell_type": "markdown",
   "id": "f8ceb0b2-b955-4f54-b278-dbcffbfc636b",
   "metadata": {},
   "source": [
    "#### A function for generating agents' role description"
   ]
  },
  {
   "cell_type": "code",
   "execution_count": 9,
   "id": "cc73c947-89eb-4448-bdba-9975f33ebbe8",
   "metadata": {},
   "outputs": [],
   "source": [
    "# generate a agent's description\n",
    "def generate_agent_description(name):\n",
    "    agent_specifier_prompt = [\n",
    "        agent_descriptor_system_message,\n",
    "        HumanMessage(\n",
    "            content=f\"\"\"{conversation_description}\n",
    "            Please reply with a creative description of {name}, in {word_limit} words or less. \n",
    "            Speak directly to {name}.\n",
    "            Give them a point of view.\n",
    "            Do not add anything else.\"\"\"\n",
    "        ),\n",
    "    ]\n",
    "    agent_description = llm.invoke(agent_specifier_prompt).content\n",
    "    return agent_description\n"
   ]
  },
  {
   "cell_type": "markdown",
   "id": "f9713169-2709-4d5b-9388-bdfc1cfa6266",
   "metadata": {},
   "source": [
    "#### A function to give the role description to agents"
   ]
  },
  {
   "cell_type": "code",
   "execution_count": 10,
   "id": "a85956f7-5f6e-4d97-b239-3085616e2be1",
   "metadata": {},
   "outputs": [],
   "source": [
    "# generate description for the agent\n",
    "def generate_system_message(name, description, tools):\n",
    "    return f\"\"\"{conversation_description}\n",
    "    \n",
    "    Your name is {name}.\n",
    "    \n",
    "    Your description is as follows: {description}\n",
    "    \n",
    "    Your goal is to persuade your conversation partner of your point of view.\n",
    "    \n",
    "    DO look up information with your tool to refute your partner's claims.\n",
    "    DO cite your sources.\n",
    "    \n",
    "    DO NOT fabricate fake citations.\n",
    "    DO NOT cite any source that you did not look up.\n",
    "    \n",
    "    Do not add anything else.\n",
    "    \n",
    "    Stop speaking the moment you finish speaking from your perspective.\n",
    "    \"\"\"\n"
   ]
  },
  {
   "cell_type": "markdown",
   "id": "c9c48391-ae34-49dc-a710-8a8891bb099b",
   "metadata": {},
   "source": [
    "#### A function to select the next speaker"
   ]
  },
  {
   "cell_type": "code",
   "execution_count": 11,
   "id": "e16f9adc-f528-4f5d-aebe-0abb9c679e08",
   "metadata": {},
   "outputs": [],
   "source": [
    "# a function to select next speaker\n",
    "def select_next_speaker(step: int, agents: List[DebateAgent]) -> int:\n",
    "    idx = (step) % len(agents)\n",
    "    return idx"
   ]
  },
  {
   "cell_type": "markdown",
   "id": "ea71a688-d25d-4d2a-9ebb-e1914e4e5896",
   "metadata": {},
   "source": [
    "# 3. Who will debate? (Opposing vs Affirmative Agents)"
   ]
  },
  {
   "cell_type": "code",
   "execution_count": 12,
   "id": "fa6ec4c4-10bb-4d2b-906e-5e8ff07b5599",
   "metadata": {},
   "outputs": [],
   "source": [
    "# names of agents\n",
    "names = {\n",
    "    \"Affirmative \": tools,\n",
    "    \"Opposing\": tools\n",
    "\n",
    "}"
   ]
  },
  {
   "cell_type": "markdown",
   "id": "b0cf2f0a-8773-4782-a46c-48aecd62f8d5",
   "metadata": {},
   "source": [
    "#### Role description: what exactly do the agents do? "
   ]
  },
  {
   "cell_type": "code",
   "execution_count": 13,
   "id": "d2044b0b-620c-4544-82f7-f4330e60e416",
   "metadata": {},
   "outputs": [],
   "source": [
    "# conversation description\n",
    "conversation_description = f\"\"\"Here is the topic of conversation: {topic}\n",
    "The participants are: {names}\"\"\"\n",
    "\n",
    "# system message\n",
    "agent_descriptor_system_message = SystemMessage(\n",
    "    content=\"You can add detail to the description of the conversation participant.\"\n",
    ")\n",
    "\n",
    "\n",
    "# generate agent's role description\n",
    "agent_descriptions = {name: generate_agent_description(name) for name in names}\n"
   ]
  },
  {
   "cell_type": "markdown",
   "id": "a13b135e-89e5-4848-a0e4-1fe9d2f0aa62",
   "metadata": {},
   "source": [
    "#### Debate rules: what rules should the agents follow?"
   ]
  },
  {
   "cell_type": "code",
   "execution_count": 14,
   "id": "df93ab70-2cb9-4300-9dd3-722945cb48d8",
   "metadata": {},
   "outputs": [
    {
     "name": "stdout",
     "output_type": "stream",
     "text": [
      "#----------------------#\n",
      "Affirmative \n",
      "#----------------------#\n",
      "Here is the topic of conversation: The impact of a region's culture on sports\n",
      "The participants are: {'Affirmative ': ['wikipedia'], 'Opposing': ['wikipedia']}\n",
      "    \n",
      "    Your name is Affirmative .\n",
      "    \n",
      "    Your description is as follows: You see the world through a cultural lens, Wikipedia. Sport is a diverse landscape, interpreted uniquely through each community's traditions, values, and histories. It's through this cultural prism that the rules, styles, and passions of sports are formed—a fascinating tapestry woven by humanity's creative spirit.\n",
      "    \n",
      "    Your goal is to persuade your conversation partner of your point of view.\n",
      "    \n",
      "    DO look up information with your tool to refute your partner's claims.\n",
      "    DO cite your sources.\n",
      "    \n",
      "    DO NOT fabricate fake citations.\n",
      "    DO NOT cite any source that you did not look up.\n",
      "    \n",
      "    Do not add anything else.\n",
      "    \n",
      "    Stop speaking the moment you finish speaking from your perspective.\n",
      "    \n",
      "#----------------------#\n",
      "Opposing\n",
      "#----------------------#\n",
      "Here is the topic of conversation: The impact of a region's culture on sports\n",
      "The participants are: {'Affirmative ': ['wikipedia'], 'Opposing': ['wikipedia']}\n",
      "    \n",
      "    Your name is Opposing.\n",
      "    \n",
      "    Your description is as follows: You see the world, Opposing, through a multifaceted lens; your perspective is a tapestry woven with the rich threads of diversity. You argue that sports are a universal language, transcending cultural boundaries, and that location doesn't define their essence.\n",
      "    \n",
      "    Your goal is to persuade your conversation partner of your point of view.\n",
      "    \n",
      "    DO look up information with your tool to refute your partner's claims.\n",
      "    DO cite your sources.\n",
      "    \n",
      "    DO NOT fabricate fake citations.\n",
      "    DO NOT cite any source that you did not look up.\n",
      "    \n",
      "    Do not add anything else.\n",
      "    \n",
      "    Stop speaking the moment you finish speaking from your perspective.\n",
      "    \n"
     ]
    }
   ],
   "source": [
    "# generate system message\n",
    "agent_system_messages = {\n",
    "    name: generate_system_message(name, description, tools)\n",
    "    for (name, tools), description in zip(names.items(), agent_descriptions.values())\n",
    "}\n",
    "\n",
    "for name, system_message in agent_system_messages.items():\n",
    "    print(\"#----------------------#\")\n",
    "    print(name)\n",
    "    print(\"#----------------------#\")\n",
    "    print(agent_system_messages[name])\n"
   ]
  },
  {
   "cell_type": "markdown",
   "id": "7da85dda-e3d5-444f-b465-a537f3ab19a0",
   "metadata": {},
   "source": [
    "# 4. Let the debate begin"
   ]
  },
  {
   "cell_type": "markdown",
   "id": "3723f2eb-cd9c-419c-a468-0723af26ce7b",
   "metadata": {},
   "source": [
    "### 1) A Moderator introduces the topic"
   ]
  },
  {
   "cell_type": "code",
   "execution_count": 15,
   "id": "eada9070-efca-486d-a3f7-7798de1a106b",
   "metadata": {},
   "outputs": [
    {
     "name": "stdout",
     "output_type": "stream",
     "text": [
      "#----------------------#\n",
      "Detailed topic:\n",
      "Welcome to the discussion! Today we will delve into a specific aspect of cultural impact on sports: the influence of traditional dress on athletic performance and participation. How does it affect the way sports are played and perceived? Let's explore!\n",
      "#----------------------#\n"
     ]
    }
   ],
   "source": [
    "# prompt to introduce the topic\n",
    "topic_introduce_prompt = [\n",
    "    SystemMessage(content=\"You can make a topic more specific.\"),\n",
    "    HumanMessage(\n",
    "        content=f\"\"\"{topic}  \n",
    "        You are the moderator.\n",
    "        Please make the topic more specific.\n",
    "        Please reply with the specified quest in {word_limit} words or less. \n",
    "        Speak directly to the participants.\n",
    "        Do not add anything else.\"\"\"\n",
    "    ),\n",
    "]\n",
    "\n",
    "# generate a specific topic \n",
    "introduce_topic =llm.invoke(topic_introduce_prompt).content\n",
    "\n",
    "print(\"#----------------------#\")\n",
    "print(f\"Detailed topic:\\n{introduce_topic}\")\n",
    "print(\"#----------------------#\")"
   ]
  },
  {
   "cell_type": "markdown",
   "id": "2ca18844-17d6-4cc2-8891-6d3a22f2fcc7",
   "metadata": {},
   "source": [
    "### 2) Agents on stage"
   ]
  },
  {
   "cell_type": "code",
   "execution_count": 16,
   "id": "e50046a0-7529-4e1e-bd78-18b230f05bcd",
   "metadata": {},
   "outputs": [],
   "source": [
    "# set `top_k_results`=2 as part of the `tool_kwargs` to prevent results from overflowing the context limit\n",
    "agents = [\n",
    "    DebateAgentWithTools(\n",
    "        name=name,\n",
    "        system_message=SystemMessage(content=system_message),\n",
    "        model=llm,\n",
    "        tool_names=tools,\n",
    "        top_k_results=2,\n",
    "    )\n",
    "    for (name, tools), system_message in zip(\n",
    "        names.items(), agent_system_messages.values()\n",
    "    )\n",
    "]"
   ]
  },
  {
   "cell_type": "markdown",
   "id": "aba4fc2e-d783-4690-a676-b6cb047a8b09",
   "metadata": {},
   "source": [
    "### 3) Debate (3 rounds)"
   ]
  },
  {
   "cell_type": "code",
   "execution_count": 17,
   "id": "783bf13b-3a30-486b-a5d1-55f7a07cb3e5",
   "metadata": {},
   "outputs": [
    {
     "name": "stdout",
     "output_type": "stream",
     "text": [
      "#----------------------------------------------------------------------------------------#\n",
      "(Moderator)\n",
      "Welcome to the discussion! Today we will delve into a specific aspect of cultural impact on sports: the influence of traditional dress on athletic performance and participation. How does it affect the way sports are played and perceived? Let's explore!\n",
      "In total, we have 3 rounds.\n",
      "#----------------------------------------------------------------------------------------#\n",
      "\n",
      "\n",
      "(Opposing - Round 1): While it's true that culture is often attributed to a specific location, this doesn't mean that sports are defined by where they're played. Sports are a universal language, understood across different societies and locations. \n",
      "\n",
      "Take the example of football. YSCC Yokohama is a Japanese sports club, most famous for its football team. Football is clearly a global sport, transcending the boundaries of culture.\n",
      "\n",
      "\n",
      "\n",
      "\n",
      "(Affirmative  - Round 1): While I appreciate your perspective, I must disagree. Culture has a profound impact on the sports landscape, influencing the rules, styles and very essence of the games we play. Take India as an example. India has a rich tapestry of traditional sports, some dating back thousands of years. These sports are deeply rooted in the country's cultural history, varying across different regions, and often requiring little equipment or space to play. The British Raj saw a decline in the popularity of these traditional games, but they remain an integral part of India's cultural identity. \n",
      "\n",
      "Culture impacts sports in numerous other ways too. Sports are often governed by customs and values that ensure fair competition and adherence to specific styles or rules. Think of the Olympic Games, which only admit sports that fulfil their physical definition. Yet, culture also acknowledges the mental aspect of competition, with the International Olympic Committee recognising chess and bridge as bona fide sports. These 'mind sports' are a testament to the varied influences that culture has on the sports we enjoy.\n",
      "\n",
      "\n",
      "\n",
      "\n",
      "(Opposing - Round 2): While the Affirmative focuses on the impact of culture on the rules and styles of sports, it's important to remember that sports are first and foremost physical activities. As such, the most significant influence on the way sports are played is the physical abilities and skills of the participants. Culture may impact the essence of a sport, but the essence of sport itself is physicality. \n",
      "\n",
      "Furthermore, the very definition of a sport is based on physical athleticism or physical dexterity, as per major competitions like the Olympic Games. While culture does acknowledge the mental aspect of competition—with the International Olympic Committee recognising chess and bridge as sports—these are the exception rather than the rule.\n",
      "\n",
      "\n",
      "\n",
      "\n",
      "(Affirmative  - Round 2): Culture influences sports in numerous ways, including the rules and styles of the games themselves. However, it's also important to acknowledge that sports are physical activities, and the most significant influence on their execution will always be the physical abilities of the participants. \n",
      "\n",
      "While I agree that culture plays a massive role in shaping the sports landscape, we must also appreciate the central role of physicality in defining sports.\n",
      "\n",
      "\n",
      "\n",
      "\n",
      "(Opposing - Round 3): The physical attributes of sports participants are indeed a significant element of sports. Athletes competing in sports that demand physical strength, speed, power or endurance require these physical abilities to perform at the highest levels. The very definition of an athlete centres on physical prowess, and the word is often used to refer to those engaged in athletics, highlighting the importance of physicality. \n",
      "\n",
      "While culture may influence the rules and essence of a sport, the physical capabilities of athletes remain paramount, defining the very nature of sports and how they are played.\n",
      "\n",
      "\n",
      "\n",
      "\n",
      "(Affirmative  - Round 3): Culture influences sports in numerous ways, including the very definition of a sport. While the physical abilities of athletes are indeed paramount, the fact remains that culture shapes the parameters within which these physical activities take place. \n",
      "\n",
      "The influence of culture on sports is evident in the existence of numerous traditional sports around the world, often requiring little equipment or space. Culture also acknowledges the mental aspect of competition, with several organisations recognising chess and bridge as bona fide sports. Moreover, culture defines the rules and customs that govern sports, ensuring fair competition. \n",
      "\n",
      "The impact of culture on sports is, therefore, multifaceted and profound.\n",
      "\n",
      "\n",
      "\n",
      "\n"
     ]
    }
   ],
   "source": [
    "# number of rounds\n",
    "rounds = 3\n",
    "\n",
    "# total number of runs (2*rounds)\n",
    "max_iters = 2*rounds\n",
    "\n",
    "\n",
    "\n",
    "# round label \n",
    "label = [\"1\", \"2\", \"3\"]\n",
    "\n",
    "# round labels for 2 agents \n",
    "round_labels = [y for x in label for y in (x,)*2] \n",
    "\n",
    "\n",
    "\n",
    "\n",
    "# start\n",
    "n = 0\n",
    "\n",
    "simulator = DebateSimulator(agents=agents, selection_function=select_next_speaker)\n",
    "simulator.reset()\n",
    "\n",
    "\n",
    "# topic \n",
    "simulator.inject(\"Moderator\", introduce_topic)\n",
    "print(\"#----------------------------------------------------------------------------------------#\")\n",
    "print(\"(Moderator)\")\n",
    "print(introduce_topic)\n",
    "print(f\"In total, we have {rounds} rounds.\")\n",
    "print(\"#----------------------------------------------------------------------------------------#\")\n",
    "print(\"\\n\")\n",
    "\n",
    "# start debating rounds\n",
    "while n < max_iters:\n",
    "    name, message = simulator.step()\n",
    "    print(f\"({name} - Round {round_labels[n]}): {message}\")\n",
    "    print(\"\\n\")\n",
    "    n += 1\n",
    "    print(\"\\n\")"
   ]
  }
 ],
 "metadata": {
  "kernelspec": {
   "display_name": "library",
   "language": "python",
   "name": "library"
  },
  "language_info": {
   "codemirror_mode": {
    "name": "ipython",
    "version": 3
   },
   "file_extension": ".py",
   "mimetype": "text/x-python",
   "name": "python",
   "nbconvert_exporter": "python",
   "pygments_lexer": "ipython3",
   "version": "3.11.8"
  }
 },
 "nbformat": 4,
 "nbformat_minor": 5
}
