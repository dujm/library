{
 "cells": [
  {
   "cell_type": "markdown",
   "id": "897d63cc-cf61-4090-b109-64aff8d56df8",
   "metadata": {},
   "source": [
    "# About \n",
    "\n",
    "This notebook is a usecase about using **LLM Agents** to read a **pdf** and make a summary. \n",
    "\n",
    "Here, I used Microsoft’s **AutoGen**, a framework for performing tasks using LLM agents."
   ]
  },
  {
   "cell_type": "markdown",
   "id": "53520f7e-adbc-45de-8a72-99f0e2d48060",
   "metadata": {},
   "source": [
    "# 1. Settings"
   ]
  },
  {
   "cell_type": "markdown",
   "id": "8fba089e-e059-4c60-a239-c4584828f80e",
   "metadata": {},
   "source": [
    "### Packages"
   ]
  },
  {
   "cell_type": "code",
   "execution_count": null,
   "id": "45d29342-78fd-4a73-8f70-ab546f431119",
   "metadata": {},
   "outputs": [],
   "source": [
    "# install pyautogen package if you haven't installed\n",
    "# %pip install pyautogen"
   ]
  },
  {
   "cell_type": "code",
   "execution_count": 10,
   "id": "630ea14b-d093-4a08-a67f-26e0629111a6",
   "metadata": {},
   "outputs": [],
   "source": [
    "import json\n",
    "import os\n",
    "\n",
    "import chromadb\n",
    "\n",
    "# autogen \n",
    "import autogen\n",
    "from autogen.agentchat.contrib.retrieve_assistant_agent import RetrieveAssistantAgent\n",
    "from autogen.agentchat.contrib.retrieve_user_proxy_agent import RetrieveUserProxyAgent\n",
    "\n",
    "# tell autogen do not use docker for autogen\n",
    "os.environ[\"AUTOGEN_USE_DOCKER\"] = \"False\"\n",
    "os.environ[\"TOKENIZERS_PARALLELISM\"] = \"False\""
   ]
  },
  {
   "cell_type": "markdown",
   "id": "045fb76a-77d4-4518-a4ed-ad18ceda5697",
   "metadata": {},
   "source": [
    "### Variables"
   ]
  },
  {
   "cell_type": "code",
   "execution_count": 11,
   "id": "9d623854-410c-4b61-bf09-d798fa359eaf",
   "metadata": {},
   "outputs": [],
   "source": [
    "#----------------#\n",
    "# variables that require changes\n",
    "#----------------#\n",
    "llm_model_id =\"llama2\"\n",
    "\n",
    "# file path\n",
    "# the pdf file here is from \"https://www.ncbi.nlm.nih.gov/pmc/articles/PMC10872502/\"\n",
    "docs_path =  [\"../data/pdf/West_2024.pdf\"]\n",
    "\n",
    "# specify file format \n",
    "custom_text_types = [\"pdf\"]\n",
    "\n",
    "# accepted file formats are \n",
    "# ['txt', 'json', 'csv', 'tsv', 'md', 'html', 'htm', 'rtf', 'rst', 'jsonl', 'log', 'xml', 'yaml', 'yml', 'pdf']"
   ]
  },
  {
   "cell_type": "markdown",
   "id": "02c06ec3-b03a-4715-83ac-644469393f28",
   "metadata": {},
   "source": [
    "### LLM Model API Endpoint"
   ]
  },
  {
   "cell_type": "code",
   "execution_count": 12,
   "id": "8d71f1b8-c35c-43fc-8b1d-46188ff3d0ca",
   "metadata": {},
   "outputs": [],
   "source": [
    "# model endpoint \n",
    "# in this case, it is the Ollama local host address. No api_key \n",
    "config_list = [\n",
    "    {\n",
    "        'base_url': \"http://localhost:11434/v1\",  \n",
    "        'model': llm_model_id,\n",
    "        'api_key': \"NULL\",\n",
    "    }\n",
    "]\n",
    "\n",
    "# llm config\n",
    "llm_config = {\n",
    "    \"config_list\": config_list, \n",
    "    \"cache_seed\": 42,\n",
    "    \"timeout\": 1200\n",
    "}\n",
    "\n"
   ]
  },
  {
   "cell_type": "markdown",
   "id": "384a3d4f-2b4c-487f-b82a-e5527927f9df",
   "metadata": {
    "jp-MarkdownHeadingCollapsed": true
   },
   "source": [
    "# 2. Create Two Retrieval-augmented Agents"
   ]
  },
  {
   "cell_type": "markdown",
   "id": "ec75f437-2fa4-4725-a4d6-2cd4340e7576",
   "metadata": {},
   "source": [
    "### a) User Proxy Agent: who translates the user's request into messages and context\n",
    "It retrieves document chunks based on the embedding similarity, and sends them along with the question to the Retrieval-Augmented Assistant."
   ]
  },
  {
   "cell_type": "code",
   "execution_count": 13,
   "id": "204286e2-4f96-4d43-ae8b-780ef588f1d7",
   "metadata": {},
   "outputs": [],
   "source": [
    "# 1. create the RetrieveUserProxyAgent instance named \"ragproxyagent\"\n",
    "ragproxyagent = RetrieveUserProxyAgent(\n",
    "    name=\"ragproxyagent\",\n",
    "    human_input_mode=\"NEVER\",\n",
    "    max_consecutive_auto_reply=3,\n",
    "    retrieve_config={\n",
    "        \"task\": \"qa\",\n",
    "        \"docs_path\": docs_path,\n",
    "        \"custom_text_types\": custom_text_types,\n",
    "        \"chunk_token_size\": 2000,\n",
    "        \"client\": chromadb.PersistentClient(path=\"/tmp/chromadb\"),\n",
    "        \"must_break_at_empty_line\": False,\n",
    "        \"embedding_model\": \"all-mpnet-base-v2\",\n",
    "        \"get_or_create\": True,  # set to False if you don't want to reuse an existing collection, but you'll need to remove the collection manually\n",
    "    },\n",
    "    code_execution_config=False,  # set to False if you don't want to execute the code\n",
    ")\n",
    "\n",
    "# By default, the human_input_mode is \"ALWAYS\", which means the agent will ask for human input at every step. We set it to \"NEVER\" here.\n",
    "# `docs_path` is the path to the docs directory. It can also be the path to a single file, or the url to a single file. \n",
    "# By default, it is set to None, which works only if the collection is already created.\n",
    "# `task` indicates the kind of task we're working on. In this example, it's a `qa` task.\n",
    "# `chunk_token_size` is the chunk token size for the retrieve chat. By default, it is set to `max_tokens * 0.6`, here we set it to 2000.\n",
    "# `custom_text_types` is a list of file types to be processed. Default is `autogen.retrieve_utils.TEXT_FORMATS`."
   ]
  },
  {
   "cell_type": "markdown",
   "id": "2e2c0028-018a-41ad-ba9c-1b9f8f71b10c",
   "metadata": {},
   "source": [
    "### b) Retrieve Assistant Agent: who generates the output\n",
    " * It employs an LLM to generate text (or code) as answers based on the question and context provided. \n",
    " * If the LLM is unable to produce a satisfactory response, it is instructed to reply with “Update Context” to the Retrieval-Augmented User Proxy."
   ]
  },
  {
   "cell_type": "code",
   "execution_count": 14,
   "id": "7ce88732-82f2-40f0-a648-fa513504cdcc",
   "metadata": {},
   "outputs": [],
   "source": [
    "# 2. create an RetrieveAssistantAgent instance named \"assistant\"\n",
    "assistant = RetrieveAssistantAgent(\n",
    "    name=\"assistant\",\n",
    "    system_message=\"You are a helpful assistant.\",\n",
    "    llm_config=llm_config\n",
    ")\n"
   ]
  },
  {
   "cell_type": "markdown",
   "id": "1df9c2d4-fbd9-48d4-a0b6-ee8db8cff355",
   "metadata": {},
   "source": [
    "# 3. Chat"
   ]
  },
  {
   "cell_type": "markdown",
   "id": "a5faaed3-f3bd-44f2-8553-73019898d255",
   "metadata": {},
   "source": [
    "### User's input"
   ]
  },
  {
   "cell_type": "code",
   "execution_count": 15,
   "id": "601cb5a6-5a13-4d28-88eb-f1df97f228d9",
   "metadata": {},
   "outputs": [],
   "source": [
    "# given a question, we use the ragproxyagent to generate a prompt to be sent to the assistant as the initial message.\n",
    "# the assistant receives the message and generates a response. The response will be sent back to the ragproxyagent for processing.\n",
    "# The conversation continues until the termination condition is met, in RetrieveChat, the termination condition when no human-in-loop is no code block detected.\n",
    "question = \"What is eculizumab?\"\n"
   ]
  },
  {
   "cell_type": "markdown",
   "id": "5cc5a29c-d530-47eb-9bfd-ff6f2df91033",
   "metadata": {},
   "source": [
    "### Agents in action"
   ]
  },
  {
   "cell_type": "code",
   "execution_count": 16,
   "id": "0e45b9e2-4af8-4461-90d6-12d68ba1e2ef",
   "metadata": {
    "scrolled": true
   },
   "outputs": [
    {
     "name": "stdout",
     "output_type": "stream",
     "text": [
      "Trying to create collection.\n",
      "doc_ids:  [['doc_3', 'doc_10', 'doc_9', 'doc_11', 'doc_0', 'doc_8', 'doc_7', 'doc_12', 'doc_5', 'doc_2', 'doc_6', 'doc_4', 'doc_1', 'doc_232', 'doc_124', 'doc_75', 'doc_119', 'doc_78', 'doc_200', 'doc_240']]\n",
      "\u001b[32mAdding doc_id doc_3 to context.\u001b[0m\n",
      "\u001b[32mAdding doc_id doc_10 to context.\u001b[0m\n",
      "\u001b[32mAdding doc_id doc_9 to context.\u001b[0m\n"
     ]
    },
    {
     "name": "stderr",
     "output_type": "stream",
     "text": [
      "huggingface/tokenizers: The current process just got forked, after parallelism has already been used. Disabling parallelism to avoid deadlocks...\n",
      "To disable this warning, you can either:\n",
      "\t- Avoid using `tokenizers` before the fork if possible\n",
      "\t- Explicitly set the environment variable TOKENIZERS_PARALLELISM=(true | false)\n"
     ]
    }
   ],
   "source": [
    "# reset the assistant. Always reset the assistant before starting a new conversation.\n",
    "assistant.reset()\n",
    "\n",
    "# answer\n",
    "answer = ragproxyagent.initiate_chat(\n",
    "    assistant, \n",
    "    problem=question,\n",
    "    silent=True\n",
    ")  "
   ]
  },
  {
   "cell_type": "markdown",
   "id": "32828fd1-a5da-4e01-92a0-83787a8f7f7d",
   "metadata": {},
   "source": [
    "### Result\n"
   ]
  },
  {
   "cell_type": "code",
   "execution_count": 17,
   "id": "f9e5a8b0-3fe2-4e67-a525-b4df3f76d899",
   "metadata": {},
   "outputs": [
    {
     "data": {
      "text/plain": [
       "['Complement is a crucial part of the immune system that helps to protect against infection and disease. There are three main branches of the complement system: the classical pathway, the alternative pathway, and the lectin pathway. Each branch has its own specific triggers and outcomes. The complement system plays a key role in inflammation, immune response, and tissue repair.',\n",
       " '',\n",
       " 'Complement-mediated diseases are disorders that result from problems with the complement system. Examples of these diseases include paroxysmal nocturnal hemoglobinuria (PNH), atypical hemolytic uremic syndrome (aHUS), and geographic atrophy secondary to age-related macular degeneration (GA).',\n",
       " '',\n",
       " 'Approved complement drugs currently exist for the treatment of some complement-mediated diseases. These include eculizumab, ravulizumab, and pegcetacoplan. Eculizumab is an anti-C5 drug that treats PNH, a rare genetic disorder that causes hemolytic anemia. Ravulizumab is also an anti-C5 drug that treats aHUS, a disorder characterized by recurrent episodes of fever, joint pain, and kidney damage. Pegcetacoplan is a C3 inhibitor that treats GA, a degenerative eye disease caused by the breakdown of the retinal pigment epithelium.',\n",
       " '',\n",
       " 'In addition to these approved drugs, there are several complement-modulating therapies in development for the treatment of other complement-mediated diseases, such as anti-C5 antibodies for the treatment of aHUS and GA, and C3 inhibitors for the treatment of PNH.',\n",
       " '',\n",
       " 'Complement dysregulation can also contribute to other diseases beyond those directly caused by complement problems, such as autoimmune disorders and cancer. For example, complement component 4 (C4) has been implicated in the development of multiple sclerosis, an autoimmune disease that affects the central nervous system.',\n",
       " '',\n",
       " 'Overall, the complement system plays a crucial role in maintaining immune homeostasis and preventing infection. Dysregulation of the complement system can result in a variety of diseases, some of which are treatable with existing therapies, while others are still being researched for potential future treatments.']"
      ]
     },
     "execution_count": 17,
     "metadata": {},
     "output_type": "execute_result"
    }
   ],
   "source": [
    "answer.summary.splitlines()"
   ]
  }
 ],
 "metadata": {
  "kernelspec": {
   "display_name": "library",
   "language": "python",
   "name": "library"
  },
  "language_info": {
   "codemirror_mode": {
    "name": "ipython",
    "version": 3
   },
   "file_extension": ".py",
   "mimetype": "text/x-python",
   "name": "python",
   "nbconvert_exporter": "python",
   "pygments_lexer": "ipython3",
   "version": "3.11.8"
  }
 },
 "nbformat": 4,
 "nbformat_minor": 5
}
