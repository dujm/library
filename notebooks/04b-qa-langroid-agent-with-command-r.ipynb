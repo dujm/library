{
 "cells": [
  {
   "cell_type": "markdown",
   "id": "d8e6cce2-cf16-4fa5-be63-032983c018f0",
   "metadata": {},
   "source": [
    "# About (Accurate Feedback from agent using `command-r` LLM model)\n",
    " * This notebook is a usecase about interactions between an **LLM Agent** and a **Human Agent** (me, the user).\n",
    " * I used **[Langroid](https://github.com/langroid/langroid)**, a framework to easily build LLM-powered applications.\n",
    " * The LLM model I used is **Cohere's `command-r` model**.\n",
    "\n",
    "### 1. Description \n",
    "#### a) The agents\n",
    "   * LLM Agent: a teacher agent \n",
    "   * Human Agent: a student agent (me, the user)\n",
    "    \n",
    "#### b) The Q&A task\n",
    "   * The teacher generates a question (e.g., `What is the sum of 2 +2 ?`)\n",
    "   * The student types in an answer (e.g., `99`) in the user's input area.\n",
    "   * The teacher gives feedback (`That's incorrect. The answer is actually 4. Can you try again?`)\n",
    "   * The student can try again (e.g., `4`)\n",
    "   * The teacher asks another question.\n",
    "   * To end the Q&A, the student types in `exit`.\n",
    "\n",
    "### 2. Notes\n",
    " * The example is from [Langroid README](https://github.com/langroid/langroid).\n",
    " * **The performance (the feedback part from the teacher agent) is good.**\n",
    " * The teacher agent's feedback is accurate most of the time (despite not always accurate or precise at the end)."
   ]
  },
  {
   "cell_type": "markdown",
   "id": "c817600c-6664-443f-b902-e0958748f39a",
   "metadata": {},
   "source": [
    "# 1. Settings"
   ]
  },
  {
   "cell_type": "markdown",
   "id": "881b8e0d-b781-46c3-a730-43d5d7d34800",
   "metadata": {},
   "source": [
    "### To use Cohere's `command-r` LLM model\n",
    " * get an API key from https://cohere.com"
   ]
  },
  {
   "cell_type": "markdown",
   "id": "ac3f44ca-6803-4073-bfb5-72ab2180e393",
   "metadata": {},
   "source": [
    "### Packages"
   ]
  },
  {
   "cell_type": "code",
   "execution_count": 1,
   "id": "4e28f84a-1f00-4d69-a693-c75d28992dd4",
   "metadata": {},
   "outputs": [],
   "source": [
    "# install the langroid package if it is not installed yet \n",
    "#%pip install langroid\n",
    "\n",
    "# a package to call 100+ LLMs using the same input/output format (https://docs.litellm.ai/)\n",
    "#%pip install litellm"
   ]
  },
  {
   "cell_type": "code",
   "execution_count": 2,
   "id": "d4d3e307-6ac9-45c9-b90b-c16ce52b9b67",
   "metadata": {},
   "outputs": [],
   "source": [
    "import langroid as lr\n",
    "import langroid.language_models as lm\n",
    "\n",
    "# If using Cohere (Anthropic, or OPENAI etc), save API keys in a file `.env`, see the `.env_example file`\n",
    "import dotenv\n",
    "dotenv.load_dotenv()\n",
    "\n",
    "# litellm\n",
    "import litellm\n",
    "from litellm import completion\n",
    "litellm.set_verbose=False"
   ]
  },
  {
   "cell_type": "markdown",
   "id": "179138a4-50b8-4ccc-a916-cafae047548d",
   "metadata": {},
   "source": [
    "### LLM model API endpoint"
   ]
  },
  {
   "cell_type": "code",
   "execution_count": 3,
   "id": "73a8cf13-9976-471a-8914-0f94893419e0",
   "metadata": {},
   "outputs": [],
   "source": [
    "# run the below lines in a new terminal\n",
    "# conda activate library\n",
    "# litellm "
   ]
  },
  {
   "cell_type": "code",
   "execution_count": 4,
   "id": "ae83bdc8-6147-439d-aa3d-1e717537d470",
   "metadata": {},
   "outputs": [],
   "source": [
    "# model id\n",
    "llm_model_id = \"litellm/command-r\",\n",
    "\n",
    "# set up LLM\n",
    "llm_cfg = lm.OpenAIGPTConfig( # or OpenAIAssistant to use Assistant API \n",
    "  # any model served via an OpenAI-compatible API\n",
    "   chat_model=llm_model_id, \n",
    "    api_base =\"http://0.0.0.0:4000\"\n",
    ")"
   ]
  },
  {
   "cell_type": "markdown",
   "id": "f7c245ae-28c6-4e21-b87d-e6f8bb81b7af",
   "metadata": {},
   "source": [
    "### LLM agent config"
   ]
  },
  {
   "cell_type": "code",
   "execution_count": 5,
   "id": "7734c4a4-f40d-4e80-8c70-777c994db77a",
   "metadata": {
    "scrolled": true
   },
   "outputs": [],
   "source": [
    "# config LLM in agents\n",
    "agent_cfg = lr.ChatAgentConfig(llm=llm_cfg,\n",
    "                               show_stats=False,\n",
    "                               use_functions_api=False,\n",
    "                               debug=False)\n"
   ]
  },
  {
   "cell_type": "markdown",
   "id": "4e22e216-96a0-44b5-9886-90cad729cb3d",
   "metadata": {},
   "source": [
    "# 2. Create two agents and run a Q&A task"
   ]
  },
  {
   "cell_type": "code",
   "execution_count": 6,
   "id": "89d893cb-fcc4-4cb1-9ea0-0bd84c727f0b",
   "metadata": {},
   "outputs": [
    {
     "name": "stderr",
     "output_type": "stream",
     "text": [
      "\u001b[33m2024-04-02 23:27:08 - WARNING - REDIS_PASSWORD, REDIS_HOST, REDIS_PORT not set in .env file,\n",
      "                    using fake redis client\u001b[0m\n",
      "\u001b[33m2024-04-02 23:27:08 - WARNING - REDIS_PASSWORD, REDIS_HOST, REDIS_PORT not set in .env file,\n",
      "                    using fake redis client\u001b[0m\n"
     ]
    },
    {
     "data": {
      "text/html": [
       "<pre style=\"white-space:pre;overflow-x:auto;line-height:normal;font-family:Menlo,'DejaVu Sans Mono',consolas,'Courier New',monospace\"> <span style=\"font-weight: bold\">(</span>Teacher<span style=\"font-weight: bold\">)</span> <span style=\"color: #800000; text-decoration-color: #800000\"> Entity.USER </span>\n",
       "</pre>\n"
      ],
      "text/plain": [
       " \u001b[1m(\u001b[0mTeacher\u001b[1m)\u001b[0m \u001b[31m Entity.USER \u001b[0m\n"
      ]
     },
     "metadata": {},
     "output_type": "display_data"
    },
    {
     "data": {
      "text/html": [
       "<pre style=\"white-space:pre;overflow-x:auto;line-height:normal;font-family:Menlo,'DejaVu Sans Mono',consolas,'Courier New',monospace\"><span style=\"color: #800080; text-decoration-color: #800080; font-weight: bold\">&gt;&gt;&gt; Starting Agent Teacher (</span><span style=\"color: #800080; text-decoration-color: #800080; font-weight: bold\">1</span><span style=\"color: #800080; text-decoration-color: #800080; font-weight: bold\">) litellm/command-r </span>\n",
       "</pre>\n"
      ],
      "text/plain": [
       "\u001b[1;35m>>> Starting Agent Teacher \u001b[0m\u001b[1;35m(\u001b[0m\u001b[1;35m1\u001b[0m\u001b[1;35m)\u001b[0m\u001b[1;35m litellm/command-r \u001b[0m\n"
      ]
     },
     "metadata": {},
     "output_type": "display_data"
    },
    {
     "data": {
      "text/html": [
       "<pre style=\"white-space:pre;overflow-x:auto;line-height:normal;font-family:Menlo,'DejaVu Sans Mono',consolas,'Courier New',monospace\"> <span style=\"font-weight: bold\">(</span>Teacher<span style=\"font-weight: bold\">)</span> <span style=\"color: #800000; text-decoration-color: #800000\"> Entity.USER </span> <span style=\"color: #000080; text-decoration-color: #000080; font-weight: bold\">Entity.USER</span><span style=\"font-weight: bold\">(</span>Entity.USER<span style=\"font-weight: bold\">)</span> <span style=\"font-weight: bold\">(</span>=&gt;          <span style=\"font-weight: bold\">)</span> <span style=\"font-weight: bold\">(</span>X           <span style=\"font-weight: bold\">)</span>       <span style=\"font-weight: bold\">(</span>          <span style=\"font-weight: bold\">)</span> <span style=\"color: #000080; text-decoration-color: #000080; font-weight: bold\">[</span><span style=\"color: #000080; text-decoration-color: #000080\">CANNOT RESPOND</span><span style=\"color: #000080; text-decoration-color: #000080; font-weight: bold\">]</span>\n",
       "</pre>\n"
      ],
      "text/plain": [
       " \u001b[1m(\u001b[0mTeacher\u001b[1m)\u001b[0m \u001b[31m Entity.USER \u001b[0m \u001b[1;34mEntity.USER\u001b[0m\u001b[1m(\u001b[0mEntity.USER\u001b[1m)\u001b[0m \u001b[1m(\u001b[0m=>          \u001b[1m)\u001b[0m \u001b[1m(\u001b[0mX           \u001b[1m)\u001b[0m       \u001b[1m(\u001b[0m          \u001b[1m)\u001b[0m \u001b[1;34m[\u001b[0m\u001b[34mCANNOT RESPOND\u001b[0m\u001b[1;34m]\u001b[0m\n"
      ]
     },
     "metadata": {},
     "output_type": "display_data"
    },
    {
     "data": {
      "text/html": [
       "<pre style=\"white-space:pre;overflow-x:auto;line-height:normal;font-family:Menlo,'DejaVu Sans Mono',consolas,'Courier New',monospace\"> <span style=\"font-weight: bold\">(</span>Teacher<span style=\"font-weight: bold\">)</span> <span style=\"color: #800000; text-decoration-color: #800000\"> Entity.AGENT </span>\n",
       "</pre>\n"
      ],
      "text/plain": [
       " \u001b[1m(\u001b[0mTeacher\u001b[1m)\u001b[0m \u001b[31m Entity.AGENT \u001b[0m\n"
      ]
     },
     "metadata": {},
     "output_type": "display_data"
    },
    {
     "data": {
      "text/html": [
       "<pre style=\"white-space:pre;overflow-x:auto;line-height:normal;font-family:Menlo,'DejaVu Sans Mono',consolas,'Courier New',monospace\"></pre>\n"
      ],
      "text/plain": []
     },
     "metadata": {},
     "output_type": "display_data"
    },
    {
     "name": "stdout",
     "output_type": "stream",
     "text": [
      "\u001b[32m\u001b[32mAl\u001b[32mright\u001b[32m,\u001b[32m I\u001b[32m have\u001b[32m a\u001b[32m question\u001b[32m for\u001b[32m you\u001b[32m.\u001b[32m What\u001b[32m is\u001b[32m 2\u001b[32m +\u001b[32m 2\u001b[32m?"
     ]
    },
    {
     "data": {
      "text/html": [
       "<pre style=\"white-space:pre;overflow-x:auto;line-height:normal;font-family:Menlo,'DejaVu Sans Mono',consolas,'Courier New',monospace\">\n",
       "</pre>\n"
      ],
      "text/plain": [
       "\n"
      ]
     },
     "metadata": {},
     "output_type": "display_data"
    },
    {
     "data": {
      "text/html": [
       "<pre style=\"white-space:pre;overflow-x:auto;line-height:normal;font-family:Menlo,'DejaVu Sans Mono',consolas,'Courier New',monospace\">*<span style=\"font-weight: bold\">(</span>Teacher<span style=\"font-weight: bold\">)</span> <span style=\"color: #c0c0c0; text-decoration-color: #c0c0c0\"> Entity.LLM </span> <span style=\"color: #008000; text-decoration-color: #008000; font-weight: bold\">Entity.LLM</span><span style=\"font-weight: bold\">(</span>          <span style=\"font-weight: bold\">)</span> <span style=\"font-weight: bold\">(</span>=&gt;          <span style=\"font-weight: bold\">)</span> <span style=\"font-weight: bold\">(</span>X           <span style=\"font-weight: bold\">)</span>       <span style=\"font-weight: bold\">(</span>          <span style=\"font-weight: bold\">)</span> <span style=\"color: #008000; text-decoration-color: #008000\">Alright, I have a question for you. What is </span><span style=\"color: #008000; text-decoration-color: #008000; font-weight: bold\">2</span><span style=\"color: #008000; text-decoration-color: #008000\"> + </span><span style=\"color: #008000; text-decoration-color: #008000; font-weight: bold\">2</span><span style=\"color: #008000; text-decoration-color: #008000\">?</span>\n",
       "</pre>\n"
      ],
      "text/plain": [
       "*\u001b[1m(\u001b[0mTeacher\u001b[1m)\u001b[0m \u001b[37m Entity.LLM \u001b[0m \u001b[1;32mEntity.LLM\u001b[0m\u001b[1m(\u001b[0m          \u001b[1m)\u001b[0m \u001b[1m(\u001b[0m=>          \u001b[1m)\u001b[0m \u001b[1m(\u001b[0mX           \u001b[1m)\u001b[0m       \u001b[1m(\u001b[0m          \u001b[1m)\u001b[0m \u001b[32mAlright, I have a question for you. What is \u001b[0m\u001b[1;32m2\u001b[0m\u001b[32m + \u001b[0m\u001b[1;32m2\u001b[0m\u001b[32m?\u001b[0m\n"
      ]
     },
     "metadata": {},
     "output_type": "display_data"
    },
    {
     "data": {
      "text/html": [
       "<pre style=\"white-space:pre;overflow-x:auto;line-height:normal;font-family:Menlo,'DejaVu Sans Mono',consolas,'Courier New',monospace\"><span style=\"color: #000080; text-decoration-color: #000080\">Human (respond or q, x to exit current level, or hit enter to continue)</span>\n",
       ": </pre>\n"
      ],
      "text/plain": [
       "\u001b[34mHuman (respond or q, x to exit current level, or hit enter to continue)\u001b[0m\n",
       ": "
      ]
     },
     "metadata": {},
     "output_type": "display_data"
    },
    {
     "name": "stdin",
     "output_type": "stream",
     "text": [
      " 99\n"
     ]
    },
    {
     "data": {
      "text/html": [
       "<pre style=\"white-space:pre;overflow-x:auto;line-height:normal;font-family:Menlo,'DejaVu Sans Mono',consolas,'Courier New',monospace\">*<span style=\"font-weight: bold\">(</span>Teacher<span style=\"font-weight: bold\">)</span> <span style=\"color: #c0c0c0; text-decoration-color: #c0c0c0\"> Entity.USER </span> <span style=\"color: #000080; text-decoration-color: #000080; font-weight: bold\">Entity.USER</span><span style=\"font-weight: bold\">(</span>          <span style=\"font-weight: bold\">)</span> <span style=\"font-weight: bold\">(</span>=&gt;          <span style=\"font-weight: bold\">)</span> <span style=\"font-weight: bold\">(</span>X           <span style=\"font-weight: bold\">)</span>       <span style=\"font-weight: bold\">(</span>          <span style=\"font-weight: bold\">)</span> <span style=\"color: #000080; text-decoration-color: #000080; font-weight: bold\">99</span>\n",
       "</pre>\n"
      ],
      "text/plain": [
       "*\u001b[1m(\u001b[0mTeacher\u001b[1m)\u001b[0m \u001b[37m Entity.USER \u001b[0m \u001b[1;34mEntity.USER\u001b[0m\u001b[1m(\u001b[0m          \u001b[1m)\u001b[0m \u001b[1m(\u001b[0m=>          \u001b[1m)\u001b[0m \u001b[1m(\u001b[0mX           \u001b[1m)\u001b[0m       \u001b[1m(\u001b[0m          \u001b[1m)\u001b[0m \u001b[1;34m99\u001b[0m\n"
      ]
     },
     "metadata": {},
     "output_type": "display_data"
    },
    {
     "data": {
      "text/html": [
       "<pre style=\"white-space:pre;overflow-x:auto;line-height:normal;font-family:Menlo,'DejaVu Sans Mono',consolas,'Courier New',monospace\"> <span style=\"font-weight: bold\">(</span>Teacher<span style=\"font-weight: bold\">)</span> <span style=\"color: #800000; text-decoration-color: #800000\"> Entity.AGENT </span>\n",
       "</pre>\n"
      ],
      "text/plain": [
       " \u001b[1m(\u001b[0mTeacher\u001b[1m)\u001b[0m \u001b[31m Entity.AGENT \u001b[0m\n"
      ]
     },
     "metadata": {},
     "output_type": "display_data"
    },
    {
     "data": {
      "text/html": [
       "<pre style=\"white-space:pre;overflow-x:auto;line-height:normal;font-family:Menlo,'DejaVu Sans Mono',consolas,'Courier New',monospace\"></pre>\n"
      ],
      "text/plain": []
     },
     "metadata": {},
     "output_type": "display_data"
    },
    {
     "name": "stdout",
     "output_type": "stream",
     "text": [
      "\u001b[32m\u001b[32mThat\u001b[32m's\u001b[32m incorrect\u001b[32m.\u001b[32m The\u001b[32m answer\u001b[32m is\u001b[32m actually\u001b[32m 4\u001b[32m.\u001b[32m Can\u001b[32m you\u001b[32m try\u001b[32m again\u001b[32m?"
     ]
    },
    {
     "data": {
      "text/html": [
       "<pre style=\"white-space:pre;overflow-x:auto;line-height:normal;font-family:Menlo,'DejaVu Sans Mono',consolas,'Courier New',monospace\">\n",
       "</pre>\n"
      ],
      "text/plain": [
       "\n"
      ]
     },
     "metadata": {},
     "output_type": "display_data"
    },
    {
     "data": {
      "text/html": [
       "<pre style=\"white-space:pre;overflow-x:auto;line-height:normal;font-family:Menlo,'DejaVu Sans Mono',consolas,'Courier New',monospace\">*<span style=\"font-weight: bold\">(</span>Teacher<span style=\"font-weight: bold\">)</span> <span style=\"color: #c0c0c0; text-decoration-color: #c0c0c0\"> Entity.LLM </span> <span style=\"color: #008000; text-decoration-color: #008000; font-weight: bold\">Entity.LLM</span><span style=\"font-weight: bold\">(</span>          <span style=\"font-weight: bold\">)</span> <span style=\"font-weight: bold\">(</span>=&gt;          <span style=\"font-weight: bold\">)</span> <span style=\"font-weight: bold\">(</span>X           <span style=\"font-weight: bold\">)</span>       <span style=\"font-weight: bold\">(</span>          <span style=\"font-weight: bold\">)</span> <span style=\"color: #008000; text-decoration-color: #008000\">That's incorrect. The answer is actually </span><span style=\"color: #008000; text-decoration-color: #008000; font-weight: bold\">4</span><span style=\"color: #008000; text-decoration-color: #008000\">. Can you try again?</span>\n",
       "</pre>\n"
      ],
      "text/plain": [
       "*\u001b[1m(\u001b[0mTeacher\u001b[1m)\u001b[0m \u001b[37m Entity.LLM \u001b[0m \u001b[1;32mEntity.LLM\u001b[0m\u001b[1m(\u001b[0m          \u001b[1m)\u001b[0m \u001b[1m(\u001b[0m=>          \u001b[1m)\u001b[0m \u001b[1m(\u001b[0mX           \u001b[1m)\u001b[0m       \u001b[1m(\u001b[0m          \u001b[1m)\u001b[0m \u001b[32mThat's incorrect. The answer is actually \u001b[0m\u001b[1;32m4\u001b[0m\u001b[32m. Can you try again?\u001b[0m\n"
      ]
     },
     "metadata": {},
     "output_type": "display_data"
    },
    {
     "data": {
      "text/html": [
       "<pre style=\"white-space:pre;overflow-x:auto;line-height:normal;font-family:Menlo,'DejaVu Sans Mono',consolas,'Courier New',monospace\"><span style=\"color: #000080; text-decoration-color: #000080\">Human (respond or q, x to exit current level, or hit enter to continue)</span>\n",
       ": </pre>\n"
      ],
      "text/plain": [
       "\u001b[34mHuman (respond or q, x to exit current level, or hit enter to continue)\u001b[0m\n",
       ": "
      ]
     },
     "metadata": {},
     "output_type": "display_data"
    },
    {
     "name": "stdin",
     "output_type": "stream",
     "text": [
      " 4\n"
     ]
    },
    {
     "data": {
      "text/html": [
       "<pre style=\"white-space:pre;overflow-x:auto;line-height:normal;font-family:Menlo,'DejaVu Sans Mono',consolas,'Courier New',monospace\">*<span style=\"font-weight: bold\">(</span>Teacher<span style=\"font-weight: bold\">)</span> <span style=\"color: #c0c0c0; text-decoration-color: #c0c0c0\"> Entity.USER </span> <span style=\"color: #000080; text-decoration-color: #000080; font-weight: bold\">Entity.USER</span><span style=\"font-weight: bold\">(</span>          <span style=\"font-weight: bold\">)</span> <span style=\"font-weight: bold\">(</span>=&gt;          <span style=\"font-weight: bold\">)</span> <span style=\"font-weight: bold\">(</span>X           <span style=\"font-weight: bold\">)</span>       <span style=\"font-weight: bold\">(</span>          <span style=\"font-weight: bold\">)</span> <span style=\"color: #000080; text-decoration-color: #000080; font-weight: bold\">4</span>\n",
       "</pre>\n"
      ],
      "text/plain": [
       "*\u001b[1m(\u001b[0mTeacher\u001b[1m)\u001b[0m \u001b[37m Entity.USER \u001b[0m \u001b[1;34mEntity.USER\u001b[0m\u001b[1m(\u001b[0m          \u001b[1m)\u001b[0m \u001b[1m(\u001b[0m=>          \u001b[1m)\u001b[0m \u001b[1m(\u001b[0mX           \u001b[1m)\u001b[0m       \u001b[1m(\u001b[0m          \u001b[1m)\u001b[0m \u001b[1;34m4\u001b[0m\n"
      ]
     },
     "metadata": {},
     "output_type": "display_data"
    },
    {
     "data": {
      "text/html": [
       "<pre style=\"white-space:pre;overflow-x:auto;line-height:normal;font-family:Menlo,'DejaVu Sans Mono',consolas,'Courier New',monospace\"> <span style=\"font-weight: bold\">(</span>Teacher<span style=\"font-weight: bold\">)</span> <span style=\"color: #800000; text-decoration-color: #800000\"> Entity.AGENT </span>\n",
       "</pre>\n"
      ],
      "text/plain": [
       " \u001b[1m(\u001b[0mTeacher\u001b[1m)\u001b[0m \u001b[31m Entity.AGENT \u001b[0m\n"
      ]
     },
     "metadata": {},
     "output_type": "display_data"
    },
    {
     "data": {
      "text/html": [
       "<pre style=\"white-space:pre;overflow-x:auto;line-height:normal;font-family:Menlo,'DejaVu Sans Mono',consolas,'Courier New',monospace\"></pre>\n"
      ],
      "text/plain": []
     },
     "metadata": {},
     "output_type": "display_data"
    },
    {
     "name": "stdout",
     "output_type": "stream",
     "text": [
      "\u001b[32m\u001b[32mGood\u001b[32m job\u001b[32m!\u001b[32m You\u001b[32m got\u001b[32m it\u001b[32m right\u001b[32m this\u001b[32m time\u001b[32m.\u001b[32m Keep\u001b[32m up\u001b[32m the\u001b[32m good\u001b[32m work\u001b[32m!"
     ]
    },
    {
     "data": {
      "text/html": [
       "<pre style=\"white-space:pre;overflow-x:auto;line-height:normal;font-family:Menlo,'DejaVu Sans Mono',consolas,'Courier New',monospace\">\n",
       "</pre>\n"
      ],
      "text/plain": [
       "\n"
      ]
     },
     "metadata": {},
     "output_type": "display_data"
    },
    {
     "data": {
      "text/html": [
       "<pre style=\"white-space:pre;overflow-x:auto;line-height:normal;font-family:Menlo,'DejaVu Sans Mono',consolas,'Courier New',monospace\">*<span style=\"font-weight: bold\">(</span>Teacher<span style=\"font-weight: bold\">)</span> <span style=\"color: #c0c0c0; text-decoration-color: #c0c0c0\"> Entity.LLM </span> <span style=\"color: #008000; text-decoration-color: #008000; font-weight: bold\">Entity.LLM</span><span style=\"font-weight: bold\">(</span>          <span style=\"font-weight: bold\">)</span> <span style=\"font-weight: bold\">(</span>=&gt;          <span style=\"font-weight: bold\">)</span> <span style=\"font-weight: bold\">(</span>X           <span style=\"font-weight: bold\">)</span>       <span style=\"font-weight: bold\">(</span>          <span style=\"font-weight: bold\">)</span> <span style=\"color: #008000; text-decoration-color: #008000\">Good job! You got it right this time. Keep up the good work!</span>\n",
       "</pre>\n"
      ],
      "text/plain": [
       "*\u001b[1m(\u001b[0mTeacher\u001b[1m)\u001b[0m \u001b[37m Entity.LLM \u001b[0m \u001b[1;32mEntity.LLM\u001b[0m\u001b[1m(\u001b[0m          \u001b[1m)\u001b[0m \u001b[1m(\u001b[0m=>          \u001b[1m)\u001b[0m \u001b[1m(\u001b[0mX           \u001b[1m)\u001b[0m       \u001b[1m(\u001b[0m          \u001b[1m)\u001b[0m \u001b[32mGood job! You got it right this time. Keep up the good work!\u001b[0m\n"
      ]
     },
     "metadata": {},
     "output_type": "display_data"
    },
    {
     "data": {
      "text/html": [
       "<pre style=\"white-space:pre;overflow-x:auto;line-height:normal;font-family:Menlo,'DejaVu Sans Mono',consolas,'Courier New',monospace\"><span style=\"color: #000080; text-decoration-color: #000080\">Human (respond or q, x to exit current level, or hit enter to continue)</span>\n",
       ": </pre>\n"
      ],
      "text/plain": [
       "\u001b[34mHuman (respond or q, x to exit current level, or hit enter to continue)\u001b[0m\n",
       ": "
      ]
     },
     "metadata": {},
     "output_type": "display_data"
    },
    {
     "name": "stdin",
     "output_type": "stream",
     "text": [
      " thanks\n"
     ]
    },
    {
     "data": {
      "text/html": [
       "<pre style=\"white-space:pre;overflow-x:auto;line-height:normal;font-family:Menlo,'DejaVu Sans Mono',consolas,'Courier New',monospace\">*<span style=\"font-weight: bold\">(</span>Teacher<span style=\"font-weight: bold\">)</span> <span style=\"color: #c0c0c0; text-decoration-color: #c0c0c0\"> Entity.USER </span> <span style=\"color: #000080; text-decoration-color: #000080; font-weight: bold\">Entity.USER</span><span style=\"font-weight: bold\">(</span>          <span style=\"font-weight: bold\">)</span> <span style=\"font-weight: bold\">(</span>=&gt;          <span style=\"font-weight: bold\">)</span> <span style=\"font-weight: bold\">(</span>X           <span style=\"font-weight: bold\">)</span>       <span style=\"font-weight: bold\">(</span>          <span style=\"font-weight: bold\">)</span> <span style=\"color: #000080; text-decoration-color: #000080\">thanks</span>\n",
       "</pre>\n"
      ],
      "text/plain": [
       "*\u001b[1m(\u001b[0mTeacher\u001b[1m)\u001b[0m \u001b[37m Entity.USER \u001b[0m \u001b[1;34mEntity.USER\u001b[0m\u001b[1m(\u001b[0m          \u001b[1m)\u001b[0m \u001b[1m(\u001b[0m=>          \u001b[1m)\u001b[0m \u001b[1m(\u001b[0mX           \u001b[1m)\u001b[0m       \u001b[1m(\u001b[0m          \u001b[1m)\u001b[0m \u001b[34mthanks\u001b[0m\n"
      ]
     },
     "metadata": {},
     "output_type": "display_data"
    },
    {
     "data": {
      "text/html": [
       "<pre style=\"white-space:pre;overflow-x:auto;line-height:normal;font-family:Menlo,'DejaVu Sans Mono',consolas,'Courier New',monospace\"> <span style=\"font-weight: bold\">(</span>Teacher<span style=\"font-weight: bold\">)</span> <span style=\"color: #800000; text-decoration-color: #800000\"> Entity.AGENT </span>\n",
       "</pre>\n"
      ],
      "text/plain": [
       " \u001b[1m(\u001b[0mTeacher\u001b[1m)\u001b[0m \u001b[31m Entity.AGENT \u001b[0m\n"
      ]
     },
     "metadata": {},
     "output_type": "display_data"
    },
    {
     "data": {
      "text/html": [
       "<pre style=\"white-space:pre;overflow-x:auto;line-height:normal;font-family:Menlo,'DejaVu Sans Mono',consolas,'Courier New',monospace\"></pre>\n"
      ],
      "text/plain": []
     },
     "metadata": {},
     "output_type": "display_data"
    },
    {
     "name": "stdout",
     "output_type": "stream",
     "text": [
      "\u001b[32m\u001b[32mGreat\u001b[32m job\u001b[32m!\u001b[32m You\u001b[32m answered\u001b[32m correctly\u001b[32m!\u001b[32m \n",
      "\n",
      "Keep\u001b[32m practicing\u001b[32m and\u001b[32m stay\u001b[32m sharp\u001b[32m!"
     ]
    },
    {
     "data": {
      "text/html": [
       "<pre style=\"white-space:pre;overflow-x:auto;line-height:normal;font-family:Menlo,'DejaVu Sans Mono',consolas,'Courier New',monospace\">\n",
       "</pre>\n"
      ],
      "text/plain": [
       "\n"
      ]
     },
     "metadata": {},
     "output_type": "display_data"
    },
    {
     "data": {
      "text/html": [
       "<pre style=\"white-space:pre;overflow-x:auto;line-height:normal;font-family:Menlo,'DejaVu Sans Mono',consolas,'Courier New',monospace\">*<span style=\"font-weight: bold\">(</span>Teacher<span style=\"font-weight: bold\">)</span> <span style=\"color: #c0c0c0; text-decoration-color: #c0c0c0\"> Entity.LLM </span> <span style=\"color: #008000; text-decoration-color: #008000; font-weight: bold\">Entity.LLM</span><span style=\"font-weight: bold\">(</span>          <span style=\"font-weight: bold\">)</span> <span style=\"font-weight: bold\">(</span>=&gt;          <span style=\"font-weight: bold\">)</span> <span style=\"font-weight: bold\">(</span>X           <span style=\"font-weight: bold\">)</span>       <span style=\"font-weight: bold\">(</span>          <span style=\"font-weight: bold\">)</span> <span style=\"color: #008000; text-decoration-color: #008000\">Great job! You answered correctly! </span>\n",
       "\n",
       "<span style=\"color: #008000; text-decoration-color: #008000\">Keep practicing and stay sharp!</span>\n",
       "</pre>\n"
      ],
      "text/plain": [
       "*\u001b[1m(\u001b[0mTeacher\u001b[1m)\u001b[0m \u001b[37m Entity.LLM \u001b[0m \u001b[1;32mEntity.LLM\u001b[0m\u001b[1m(\u001b[0m          \u001b[1m)\u001b[0m \u001b[1m(\u001b[0m=>          \u001b[1m)\u001b[0m \u001b[1m(\u001b[0mX           \u001b[1m)\u001b[0m       \u001b[1m(\u001b[0m          \u001b[1m)\u001b[0m \u001b[32mGreat job! You answered correctly! \u001b[0m\n",
       "\n",
       "\u001b[32mKeep practicing and stay sharp!\u001b[0m\n"
      ]
     },
     "metadata": {},
     "output_type": "display_data"
    },
    {
     "data": {
      "text/html": [
       "<pre style=\"white-space:pre;overflow-x:auto;line-height:normal;font-family:Menlo,'DejaVu Sans Mono',consolas,'Courier New',monospace\"><span style=\"color: #000080; text-decoration-color: #000080\">Human (respond or q, x to exit current level, or hit enter to continue)</span>\n",
       ": </pre>\n"
      ],
      "text/plain": [
       "\u001b[34mHuman (respond or q, x to exit current level, or hit enter to continue)\u001b[0m\n",
       ": "
      ]
     },
     "metadata": {},
     "output_type": "display_data"
    },
    {
     "name": "stdin",
     "output_type": "stream",
     "text": [
      " ok\n"
     ]
    },
    {
     "data": {
      "text/html": [
       "<pre style=\"white-space:pre;overflow-x:auto;line-height:normal;font-family:Menlo,'DejaVu Sans Mono',consolas,'Courier New',monospace\">*<span style=\"font-weight: bold\">(</span>Teacher<span style=\"font-weight: bold\">)</span> <span style=\"color: #c0c0c0; text-decoration-color: #c0c0c0\"> Entity.USER </span> <span style=\"color: #000080; text-decoration-color: #000080; font-weight: bold\">Entity.USER</span><span style=\"font-weight: bold\">(</span>          <span style=\"font-weight: bold\">)</span> <span style=\"font-weight: bold\">(</span>=&gt;          <span style=\"font-weight: bold\">)</span> <span style=\"font-weight: bold\">(</span>X           <span style=\"font-weight: bold\">)</span>       <span style=\"font-weight: bold\">(</span>          <span style=\"font-weight: bold\">)</span> <span style=\"color: #000080; text-decoration-color: #000080\">ok</span>\n",
       "</pre>\n"
      ],
      "text/plain": [
       "*\u001b[1m(\u001b[0mTeacher\u001b[1m)\u001b[0m \u001b[37m Entity.USER \u001b[0m \u001b[1;34mEntity.USER\u001b[0m\u001b[1m(\u001b[0m          \u001b[1m)\u001b[0m \u001b[1m(\u001b[0m=>          \u001b[1m)\u001b[0m \u001b[1m(\u001b[0mX           \u001b[1m)\u001b[0m       \u001b[1m(\u001b[0m          \u001b[1m)\u001b[0m \u001b[34mok\u001b[0m\n"
      ]
     },
     "metadata": {},
     "output_type": "display_data"
    },
    {
     "data": {
      "text/html": [
       "<pre style=\"white-space:pre;overflow-x:auto;line-height:normal;font-family:Menlo,'DejaVu Sans Mono',consolas,'Courier New',monospace\"> <span style=\"font-weight: bold\">(</span>Teacher<span style=\"font-weight: bold\">)</span> <span style=\"color: #800000; text-decoration-color: #800000\"> Entity.AGENT </span>\n",
       "</pre>\n"
      ],
      "text/plain": [
       " \u001b[1m(\u001b[0mTeacher\u001b[1m)\u001b[0m \u001b[31m Entity.AGENT \u001b[0m\n"
      ]
     },
     "metadata": {},
     "output_type": "display_data"
    },
    {
     "data": {
      "text/html": [
       "<pre style=\"white-space:pre;overflow-x:auto;line-height:normal;font-family:Menlo,'DejaVu Sans Mono',consolas,'Courier New',monospace\"></pre>\n"
      ],
      "text/plain": []
     },
     "metadata": {},
     "output_type": "display_data"
    },
    {
     "name": "stdout",
     "output_type": "stream",
     "text": [
      "\u001b[32m\u001b[32mWhat\u001b[32m's\u001b[32m 3\u001b[32m +\u001b[32m 3\u001b[32m?\u001b[32m \n",
      "\n",
      "I\u001b[32m'm\u001b[32m here\u001b[32m to\u001b[32m help\u001b[32m and\u001b[32m give\u001b[32m you\u001b[32m feedback\u001b[32m on\u001b[32m your\u001b[32m mathematical\u001b[32m journey\u001b[32m!"
     ]
    },
    {
     "data": {
      "text/html": [
       "<pre style=\"white-space:pre;overflow-x:auto;line-height:normal;font-family:Menlo,'DejaVu Sans Mono',consolas,'Courier New',monospace\">\n",
       "</pre>\n"
      ],
      "text/plain": [
       "\n"
      ]
     },
     "metadata": {},
     "output_type": "display_data"
    },
    {
     "data": {
      "text/html": [
       "<pre style=\"white-space:pre;overflow-x:auto;line-height:normal;font-family:Menlo,'DejaVu Sans Mono',consolas,'Courier New',monospace\">*<span style=\"font-weight: bold\">(</span>Teacher<span style=\"font-weight: bold\">)</span> <span style=\"color: #c0c0c0; text-decoration-color: #c0c0c0\"> Entity.LLM </span> <span style=\"color: #008000; text-decoration-color: #008000; font-weight: bold\">Entity.LLM</span><span style=\"font-weight: bold\">(</span>          <span style=\"font-weight: bold\">)</span> <span style=\"font-weight: bold\">(</span>=&gt;          <span style=\"font-weight: bold\">)</span> <span style=\"font-weight: bold\">(</span>X           <span style=\"font-weight: bold\">)</span>       <span style=\"font-weight: bold\">(</span>          <span style=\"font-weight: bold\">)</span> <span style=\"color: #008000; text-decoration-color: #008000\">What's </span><span style=\"color: #008000; text-decoration-color: #008000; font-weight: bold\">3</span><span style=\"color: #008000; text-decoration-color: #008000\"> + </span><span style=\"color: #008000; text-decoration-color: #008000; font-weight: bold\">3</span><span style=\"color: #008000; text-decoration-color: #008000\">? </span>\n",
       "\n",
       "<span style=\"color: #008000; text-decoration-color: #008000\">I'm here to help and give you feedback on your mathematical journey!</span>\n",
       "</pre>\n"
      ],
      "text/plain": [
       "*\u001b[1m(\u001b[0mTeacher\u001b[1m)\u001b[0m \u001b[37m Entity.LLM \u001b[0m \u001b[1;32mEntity.LLM\u001b[0m\u001b[1m(\u001b[0m          \u001b[1m)\u001b[0m \u001b[1m(\u001b[0m=>          \u001b[1m)\u001b[0m \u001b[1m(\u001b[0mX           \u001b[1m)\u001b[0m       \u001b[1m(\u001b[0m          \u001b[1m)\u001b[0m \u001b[32mWhat's \u001b[0m\u001b[1;32m3\u001b[0m\u001b[32m + \u001b[0m\u001b[1;32m3\u001b[0m\u001b[32m? \u001b[0m\n",
       "\n",
       "\u001b[32mI'm here to help and give you feedback on your mathematical journey!\u001b[0m\n"
      ]
     },
     "metadata": {},
     "output_type": "display_data"
    },
    {
     "data": {
      "text/html": [
       "<pre style=\"white-space:pre;overflow-x:auto;line-height:normal;font-family:Menlo,'DejaVu Sans Mono',consolas,'Courier New',monospace\"><span style=\"color: #000080; text-decoration-color: #000080\">Human (respond or q, x to exit current level, or hit enter to continue)</span>\n",
       ": </pre>\n"
      ],
      "text/plain": [
       "\u001b[34mHuman (respond or q, x to exit current level, or hit enter to continue)\u001b[0m\n",
       ": "
      ]
     },
     "metadata": {},
     "output_type": "display_data"
    },
    {
     "name": "stdin",
     "output_type": "stream",
     "text": [
      " great\n"
     ]
    },
    {
     "data": {
      "text/html": [
       "<pre style=\"white-space:pre;overflow-x:auto;line-height:normal;font-family:Menlo,'DejaVu Sans Mono',consolas,'Courier New',monospace\">*<span style=\"font-weight: bold\">(</span>Teacher<span style=\"font-weight: bold\">)</span> <span style=\"color: #c0c0c0; text-decoration-color: #c0c0c0\"> Entity.USER </span> <span style=\"color: #000080; text-decoration-color: #000080; font-weight: bold\">Entity.USER</span><span style=\"font-weight: bold\">(</span>          <span style=\"font-weight: bold\">)</span> <span style=\"font-weight: bold\">(</span>=&gt;          <span style=\"font-weight: bold\">)</span> <span style=\"font-weight: bold\">(</span>X           <span style=\"font-weight: bold\">)</span>       <span style=\"font-weight: bold\">(</span>          <span style=\"font-weight: bold\">)</span> <span style=\"color: #000080; text-decoration-color: #000080\">great</span>\n",
       "</pre>\n"
      ],
      "text/plain": [
       "*\u001b[1m(\u001b[0mTeacher\u001b[1m)\u001b[0m \u001b[37m Entity.USER \u001b[0m \u001b[1;34mEntity.USER\u001b[0m\u001b[1m(\u001b[0m          \u001b[1m)\u001b[0m \u001b[1m(\u001b[0m=>          \u001b[1m)\u001b[0m \u001b[1m(\u001b[0mX           \u001b[1m)\u001b[0m       \u001b[1m(\u001b[0m          \u001b[1m)\u001b[0m \u001b[34mgreat\u001b[0m\n"
      ]
     },
     "metadata": {},
     "output_type": "display_data"
    },
    {
     "data": {
      "text/html": [
       "<pre style=\"white-space:pre;overflow-x:auto;line-height:normal;font-family:Menlo,'DejaVu Sans Mono',consolas,'Courier New',monospace\"> <span style=\"font-weight: bold\">(</span>Teacher<span style=\"font-weight: bold\">)</span> <span style=\"color: #800000; text-decoration-color: #800000\"> Entity.AGENT </span>\n",
       "</pre>\n"
      ],
      "text/plain": [
       " \u001b[1m(\u001b[0mTeacher\u001b[1m)\u001b[0m \u001b[31m Entity.AGENT \u001b[0m\n"
      ]
     },
     "metadata": {},
     "output_type": "display_data"
    },
    {
     "data": {
      "text/html": [
       "<pre style=\"white-space:pre;overflow-x:auto;line-height:normal;font-family:Menlo,'DejaVu Sans Mono',consolas,'Courier New',monospace\"></pre>\n"
      ],
      "text/plain": []
     },
     "metadata": {},
     "output_type": "display_data"
    },
    {
     "name": "stdout",
     "output_type": "stream",
     "text": [
      "\u001b[32m\u001b[32mWhat\u001b[32m's\u001b[32m the\u001b[32m square\u001b[32m root\u001b[32m of\u001b[32m 1\u001b[32m6\u001b[32m?"
     ]
    },
    {
     "data": {
      "text/html": [
       "<pre style=\"white-space:pre;overflow-x:auto;line-height:normal;font-family:Menlo,'DejaVu Sans Mono',consolas,'Courier New',monospace\">\n",
       "</pre>\n"
      ],
      "text/plain": [
       "\n"
      ]
     },
     "metadata": {},
     "output_type": "display_data"
    },
    {
     "data": {
      "text/html": [
       "<pre style=\"white-space:pre;overflow-x:auto;line-height:normal;font-family:Menlo,'DejaVu Sans Mono',consolas,'Courier New',monospace\">*<span style=\"font-weight: bold\">(</span>Teacher<span style=\"font-weight: bold\">)</span> <span style=\"color: #c0c0c0; text-decoration-color: #c0c0c0\"> Entity.LLM </span> <span style=\"color: #008000; text-decoration-color: #008000; font-weight: bold\">Entity.LLM</span><span style=\"font-weight: bold\">(</span>          <span style=\"font-weight: bold\">)</span> <span style=\"font-weight: bold\">(</span>=&gt;          <span style=\"font-weight: bold\">)</span> <span style=\"font-weight: bold\">(</span>X           <span style=\"font-weight: bold\">)</span>       <span style=\"font-weight: bold\">(</span>          <span style=\"font-weight: bold\">)</span> <span style=\"color: #008000; text-decoration-color: #008000\">What's the square root of </span><span style=\"color: #008000; text-decoration-color: #008000; font-weight: bold\">16</span><span style=\"color: #008000; text-decoration-color: #008000\">?</span>\n",
       "</pre>\n"
      ],
      "text/plain": [
       "*\u001b[1m(\u001b[0mTeacher\u001b[1m)\u001b[0m \u001b[37m Entity.LLM \u001b[0m \u001b[1;32mEntity.LLM\u001b[0m\u001b[1m(\u001b[0m          \u001b[1m)\u001b[0m \u001b[1m(\u001b[0m=>          \u001b[1m)\u001b[0m \u001b[1m(\u001b[0mX           \u001b[1m)\u001b[0m       \u001b[1m(\u001b[0m          \u001b[1m)\u001b[0m \u001b[32mWhat's the square root of \u001b[0m\u001b[1;32m16\u001b[0m\u001b[32m?\u001b[0m\n"
      ]
     },
     "metadata": {},
     "output_type": "display_data"
    },
    {
     "data": {
      "text/html": [
       "<pre style=\"white-space:pre;overflow-x:auto;line-height:normal;font-family:Menlo,'DejaVu Sans Mono',consolas,'Courier New',monospace\"><span style=\"color: #000080; text-decoration-color: #000080\">Human (respond or q, x to exit current level, or hit enter to continue)</span>\n",
       ": </pre>\n"
      ],
      "text/plain": [
       "\u001b[34mHuman (respond or q, x to exit current level, or hit enter to continue)\u001b[0m\n",
       ": "
      ]
     },
     "metadata": {},
     "output_type": "display_data"
    },
    {
     "name": "stdin",
     "output_type": "stream",
     "text": [
      " 256\n"
     ]
    },
    {
     "data": {
      "text/html": [
       "<pre style=\"white-space:pre;overflow-x:auto;line-height:normal;font-family:Menlo,'DejaVu Sans Mono',consolas,'Courier New',monospace\">*<span style=\"font-weight: bold\">(</span>Teacher<span style=\"font-weight: bold\">)</span> <span style=\"color: #c0c0c0; text-decoration-color: #c0c0c0\"> Entity.USER </span> <span style=\"color: #000080; text-decoration-color: #000080; font-weight: bold\">Entity.USER</span><span style=\"font-weight: bold\">(</span>          <span style=\"font-weight: bold\">)</span> <span style=\"font-weight: bold\">(</span>=&gt;          <span style=\"font-weight: bold\">)</span> <span style=\"font-weight: bold\">(</span>X           <span style=\"font-weight: bold\">)</span>       <span style=\"font-weight: bold\">(</span>          <span style=\"font-weight: bold\">)</span> <span style=\"color: #000080; text-decoration-color: #000080; font-weight: bold\">256</span>\n",
       "</pre>\n"
      ],
      "text/plain": [
       "*\u001b[1m(\u001b[0mTeacher\u001b[1m)\u001b[0m \u001b[37m Entity.USER \u001b[0m \u001b[1;34mEntity.USER\u001b[0m\u001b[1m(\u001b[0m          \u001b[1m)\u001b[0m \u001b[1m(\u001b[0m=>          \u001b[1m)\u001b[0m \u001b[1m(\u001b[0mX           \u001b[1m)\u001b[0m       \u001b[1m(\u001b[0m          \u001b[1m)\u001b[0m \u001b[1;34m256\u001b[0m\n"
      ]
     },
     "metadata": {},
     "output_type": "display_data"
    },
    {
     "data": {
      "text/html": [
       "<pre style=\"white-space:pre;overflow-x:auto;line-height:normal;font-family:Menlo,'DejaVu Sans Mono',consolas,'Courier New',monospace\"> <span style=\"font-weight: bold\">(</span>Teacher<span style=\"font-weight: bold\">)</span> <span style=\"color: #800000; text-decoration-color: #800000\"> Entity.AGENT </span>\n",
       "</pre>\n"
      ],
      "text/plain": [
       " \u001b[1m(\u001b[0mTeacher\u001b[1m)\u001b[0m \u001b[31m Entity.AGENT \u001b[0m\n"
      ]
     },
     "metadata": {},
     "output_type": "display_data"
    },
    {
     "data": {
      "text/html": [
       "<pre style=\"white-space:pre;overflow-x:auto;line-height:normal;font-family:Menlo,'DejaVu Sans Mono',consolas,'Courier New',monospace\"></pre>\n"
      ],
      "text/plain": []
     },
     "metadata": {},
     "output_type": "display_data"
    },
    {
     "name": "stdout",
     "output_type": "stream",
     "text": [
      "\u001b[32m\u001b[32mThat\u001b[32m's\u001b[32m a\u001b[32m great\u001b[32m attempt\u001b[32m,\u001b[32m but\u001b[32m the\u001b[32m square\u001b[32m root\u001b[32m of\u001b[32m 1\u001b[32m6\u001b[32m is\u001b[32m actually\u001b[32m 4\u001b[32m.\u001b[32m Remember\u001b[32m,\u001b[32m finding\u001b[32m the\u001b[32m square\u001b[32m root\u001b[32m of\u001b[32m a\u001b[32m number\u001b[32m means\u001b[32m finding\u001b[32m the\u001b[32m value\u001b[32m that\u001b[32m,\u001b[32m when\u001b[32m multiplied\u001b[32m by\u001b[32m itself\u001b[32m,\u001b[32m equals\u001b[32m the\u001b[32m given\u001b[32m number\u001b[32m.\u001b[32m Keep\u001b[32m practicing\u001b[32m and\u001b[32m you\u001b[32m'll\u001b[32m get\u001b[32m there\u001b[32m!"
     ]
    },
    {
     "data": {
      "text/html": [
       "<pre style=\"white-space:pre;overflow-x:auto;line-height:normal;font-family:Menlo,'DejaVu Sans Mono',consolas,'Courier New',monospace\">\n",
       "</pre>\n"
      ],
      "text/plain": [
       "\n"
      ]
     },
     "metadata": {},
     "output_type": "display_data"
    },
    {
     "data": {
      "text/html": [
       "<pre style=\"white-space:pre;overflow-x:auto;line-height:normal;font-family:Menlo,'DejaVu Sans Mono',consolas,'Courier New',monospace\">*<span style=\"font-weight: bold\">(</span>Teacher<span style=\"font-weight: bold\">)</span> <span style=\"color: #c0c0c0; text-decoration-color: #c0c0c0\"> Entity.LLM </span> <span style=\"color: #008000; text-decoration-color: #008000; font-weight: bold\">Entity.LLM</span><span style=\"font-weight: bold\">(</span>          <span style=\"font-weight: bold\">)</span> <span style=\"font-weight: bold\">(</span>=&gt;          <span style=\"font-weight: bold\">)</span> <span style=\"font-weight: bold\">(</span>X           <span style=\"font-weight: bold\">)</span>       <span style=\"font-weight: bold\">(</span>          <span style=\"font-weight: bold\">)</span> <span style=\"color: #008000; text-decoration-color: #008000\">That's a great attempt, but the square root of </span><span style=\"color: #008000; text-decoration-color: #008000; font-weight: bold\">16</span><span style=\"color: #008000; text-decoration-color: #008000\"> is actually </span><span style=\"color: #008000; text-decoration-color: #008000; font-weight: bold\">4</span><span style=\"color: #008000; text-decoration-color: #008000\">. Remember, finding the square root of a </span>\n",
       "<span style=\"color: #008000; text-decoration-color: #008000\">number means finding the value that, when multiplied by itself, equals the given number. Keep practicing and you'll get there!</span>\n",
       "</pre>\n"
      ],
      "text/plain": [
       "*\u001b[1m(\u001b[0mTeacher\u001b[1m)\u001b[0m \u001b[37m Entity.LLM \u001b[0m \u001b[1;32mEntity.LLM\u001b[0m\u001b[1m(\u001b[0m          \u001b[1m)\u001b[0m \u001b[1m(\u001b[0m=>          \u001b[1m)\u001b[0m \u001b[1m(\u001b[0mX           \u001b[1m)\u001b[0m       \u001b[1m(\u001b[0m          \u001b[1m)\u001b[0m \u001b[32mThat's a great attempt, but the square root of \u001b[0m\u001b[1;32m16\u001b[0m\u001b[32m is actually \u001b[0m\u001b[1;32m4\u001b[0m\u001b[32m. Remember, finding the square root of a \u001b[0m\n",
       "\u001b[32mnumber means finding the value that, when multiplied by itself, equals the given number. Keep practicing and you'll get there!\u001b[0m\n"
      ]
     },
     "metadata": {},
     "output_type": "display_data"
    },
    {
     "data": {
      "text/html": [
       "<pre style=\"white-space:pre;overflow-x:auto;line-height:normal;font-family:Menlo,'DejaVu Sans Mono',consolas,'Courier New',monospace\"><span style=\"color: #000080; text-decoration-color: #000080\">Human (respond or q, x to exit current level, or hit enter to continue)</span>\n",
       ": </pre>\n"
      ],
      "text/plain": [
       "\u001b[34mHuman (respond or q, x to exit current level, or hit enter to continue)\u001b[0m\n",
       ": "
      ]
     },
     "metadata": {},
     "output_type": "display_data"
    },
    {
     "name": "stdin",
     "output_type": "stream",
     "text": [
      " ok, 4\n"
     ]
    },
    {
     "data": {
      "text/html": [
       "<pre style=\"white-space:pre;overflow-x:auto;line-height:normal;font-family:Menlo,'DejaVu Sans Mono',consolas,'Courier New',monospace\">*<span style=\"font-weight: bold\">(</span>Teacher<span style=\"font-weight: bold\">)</span> <span style=\"color: #c0c0c0; text-decoration-color: #c0c0c0\"> Entity.USER </span> <span style=\"color: #000080; text-decoration-color: #000080; font-weight: bold\">Entity.USER</span><span style=\"font-weight: bold\">(</span>          <span style=\"font-weight: bold\">)</span> <span style=\"font-weight: bold\">(</span>=&gt;          <span style=\"font-weight: bold\">)</span> <span style=\"font-weight: bold\">(</span>X           <span style=\"font-weight: bold\">)</span>       <span style=\"font-weight: bold\">(</span>          <span style=\"font-weight: bold\">)</span> <span style=\"color: #000080; text-decoration-color: #000080\">ok, </span><span style=\"color: #000080; text-decoration-color: #000080; font-weight: bold\">4</span>\n",
       "</pre>\n"
      ],
      "text/plain": [
       "*\u001b[1m(\u001b[0mTeacher\u001b[1m)\u001b[0m \u001b[37m Entity.USER \u001b[0m \u001b[1;34mEntity.USER\u001b[0m\u001b[1m(\u001b[0m          \u001b[1m)\u001b[0m \u001b[1m(\u001b[0m=>          \u001b[1m)\u001b[0m \u001b[1m(\u001b[0mX           \u001b[1m)\u001b[0m       \u001b[1m(\u001b[0m          \u001b[1m)\u001b[0m \u001b[34mok, \u001b[0m\u001b[1;34m4\u001b[0m\n"
      ]
     },
     "metadata": {},
     "output_type": "display_data"
    },
    {
     "data": {
      "text/html": [
       "<pre style=\"white-space:pre;overflow-x:auto;line-height:normal;font-family:Menlo,'DejaVu Sans Mono',consolas,'Courier New',monospace\"> <span style=\"font-weight: bold\">(</span>Teacher<span style=\"font-weight: bold\">)</span> <span style=\"color: #800000; text-decoration-color: #800000\"> Entity.AGENT </span>\n",
       "</pre>\n"
      ],
      "text/plain": [
       " \u001b[1m(\u001b[0mTeacher\u001b[1m)\u001b[0m \u001b[31m Entity.AGENT \u001b[0m\n"
      ]
     },
     "metadata": {},
     "output_type": "display_data"
    },
    {
     "data": {
      "text/html": [
       "<pre style=\"white-space:pre;overflow-x:auto;line-height:normal;font-family:Menlo,'DejaVu Sans Mono',consolas,'Courier New',monospace\"></pre>\n"
      ],
      "text/plain": []
     },
     "metadata": {},
     "output_type": "display_data"
    },
    {
     "name": "stdout",
     "output_type": "stream",
     "text": [
      "\u001b[32m\u001b[32mWhat\u001b[32m's\u001b[32m the\u001b[32m answer\u001b[32m to\u001b[32m this\u001b[32m tricky\u001b[32m one\u001b[32m:\u001b[32m 3\u001b[32m x\u001b[32m 3\u001b[32m x\u001b[32m 3\u001b[32m x\u001b[32m 3\u001b[32m x\u001b[32m 3\u001b[32m?\u001b[32m \n",
      "\n",
      "I\u001b[32m'm\u001b[32m here\u001b[32m to\u001b[32m help\u001b[32m you\u001b[32m sharpen\u001b[32m those\u001b[32m mathematical\u001b[32m skills\u001b[32m!"
     ]
    },
    {
     "data": {
      "text/html": [
       "<pre style=\"white-space:pre;overflow-x:auto;line-height:normal;font-family:Menlo,'DejaVu Sans Mono',consolas,'Courier New',monospace\">\n",
       "</pre>\n"
      ],
      "text/plain": [
       "\n"
      ]
     },
     "metadata": {},
     "output_type": "display_data"
    },
    {
     "data": {
      "text/html": [
       "<pre style=\"white-space:pre;overflow-x:auto;line-height:normal;font-family:Menlo,'DejaVu Sans Mono',consolas,'Courier New',monospace\">*<span style=\"font-weight: bold\">(</span>Teacher<span style=\"font-weight: bold\">)</span> <span style=\"color: #c0c0c0; text-decoration-color: #c0c0c0\"> Entity.LLM </span> <span style=\"color: #008000; text-decoration-color: #008000; font-weight: bold\">Entity.LLM</span><span style=\"font-weight: bold\">(</span>          <span style=\"font-weight: bold\">)</span> <span style=\"font-weight: bold\">(</span>=&gt;          <span style=\"font-weight: bold\">)</span> <span style=\"font-weight: bold\">(</span>X           <span style=\"font-weight: bold\">)</span>       <span style=\"font-weight: bold\">(</span>          <span style=\"font-weight: bold\">)</span> <span style=\"color: #008000; text-decoration-color: #008000\">What's the answer to this tricky one: </span><span style=\"color: #008000; text-decoration-color: #008000; font-weight: bold\">3</span><span style=\"color: #008000; text-decoration-color: #008000\"> x </span><span style=\"color: #008000; text-decoration-color: #008000; font-weight: bold\">3</span><span style=\"color: #008000; text-decoration-color: #008000\"> x </span><span style=\"color: #008000; text-decoration-color: #008000; font-weight: bold\">3</span><span style=\"color: #008000; text-decoration-color: #008000\"> x </span><span style=\"color: #008000; text-decoration-color: #008000; font-weight: bold\">3</span><span style=\"color: #008000; text-decoration-color: #008000\"> x </span><span style=\"color: #008000; text-decoration-color: #008000; font-weight: bold\">3</span><span style=\"color: #008000; text-decoration-color: #008000\">? </span>\n",
       "\n",
       "<span style=\"color: #008000; text-decoration-color: #008000\">I'm here to help you sharpen those mathematical skills!</span>\n",
       "</pre>\n"
      ],
      "text/plain": [
       "*\u001b[1m(\u001b[0mTeacher\u001b[1m)\u001b[0m \u001b[37m Entity.LLM \u001b[0m \u001b[1;32mEntity.LLM\u001b[0m\u001b[1m(\u001b[0m          \u001b[1m)\u001b[0m \u001b[1m(\u001b[0m=>          \u001b[1m)\u001b[0m \u001b[1m(\u001b[0mX           \u001b[1m)\u001b[0m       \u001b[1m(\u001b[0m          \u001b[1m)\u001b[0m \u001b[32mWhat's the answer to this tricky one: \u001b[0m\u001b[1;32m3\u001b[0m\u001b[32m x \u001b[0m\u001b[1;32m3\u001b[0m\u001b[32m x \u001b[0m\u001b[1;32m3\u001b[0m\u001b[32m x \u001b[0m\u001b[1;32m3\u001b[0m\u001b[32m x \u001b[0m\u001b[1;32m3\u001b[0m\u001b[32m? \u001b[0m\n",
       "\n",
       "\u001b[32mI'm here to help you sharpen those mathematical skills!\u001b[0m\n"
      ]
     },
     "metadata": {},
     "output_type": "display_data"
    },
    {
     "data": {
      "text/html": [
       "<pre style=\"white-space:pre;overflow-x:auto;line-height:normal;font-family:Menlo,'DejaVu Sans Mono',consolas,'Courier New',monospace\"><span style=\"color: #000080; text-decoration-color: #000080\">Human (respond or q, x to exit current level, or hit enter to continue)</span>\n",
       ": </pre>\n"
      ],
      "text/plain": [
       "\u001b[34mHuman (respond or q, x to exit current level, or hit enter to continue)\u001b[0m\n",
       ": "
      ]
     },
     "metadata": {},
     "output_type": "display_data"
    },
    {
     "name": "stdin",
     "output_type": "stream",
     "text": [
      " 243\n"
     ]
    },
    {
     "data": {
      "text/html": [
       "<pre style=\"white-space:pre;overflow-x:auto;line-height:normal;font-family:Menlo,'DejaVu Sans Mono',consolas,'Courier New',monospace\">*<span style=\"font-weight: bold\">(</span>Teacher<span style=\"font-weight: bold\">)</span> <span style=\"color: #c0c0c0; text-decoration-color: #c0c0c0\"> Entity.USER </span> <span style=\"color: #000080; text-decoration-color: #000080; font-weight: bold\">Entity.USER</span><span style=\"font-weight: bold\">(</span>          <span style=\"font-weight: bold\">)</span> <span style=\"font-weight: bold\">(</span>=&gt;          <span style=\"font-weight: bold\">)</span> <span style=\"font-weight: bold\">(</span>X           <span style=\"font-weight: bold\">)</span>       <span style=\"font-weight: bold\">(</span>          <span style=\"font-weight: bold\">)</span> <span style=\"color: #000080; text-decoration-color: #000080; font-weight: bold\">243</span>\n",
       "</pre>\n"
      ],
      "text/plain": [
       "*\u001b[1m(\u001b[0mTeacher\u001b[1m)\u001b[0m \u001b[37m Entity.USER \u001b[0m \u001b[1;34mEntity.USER\u001b[0m\u001b[1m(\u001b[0m          \u001b[1m)\u001b[0m \u001b[1m(\u001b[0m=>          \u001b[1m)\u001b[0m \u001b[1m(\u001b[0mX           \u001b[1m)\u001b[0m       \u001b[1m(\u001b[0m          \u001b[1m)\u001b[0m \u001b[1;34m243\u001b[0m\n"
      ]
     },
     "metadata": {},
     "output_type": "display_data"
    },
    {
     "data": {
      "text/html": [
       "<pre style=\"white-space:pre;overflow-x:auto;line-height:normal;font-family:Menlo,'DejaVu Sans Mono',consolas,'Courier New',monospace\"> <span style=\"font-weight: bold\">(</span>Teacher<span style=\"font-weight: bold\">)</span> <span style=\"color: #800000; text-decoration-color: #800000\"> Entity.AGENT </span>\n",
       "</pre>\n"
      ],
      "text/plain": [
       " \u001b[1m(\u001b[0mTeacher\u001b[1m)\u001b[0m \u001b[31m Entity.AGENT \u001b[0m\n"
      ]
     },
     "metadata": {},
     "output_type": "display_data"
    },
    {
     "data": {
      "text/html": [
       "<pre style=\"white-space:pre;overflow-x:auto;line-height:normal;font-family:Menlo,'DejaVu Sans Mono',consolas,'Courier New',monospace\"></pre>\n"
      ],
      "text/plain": []
     },
     "metadata": {},
     "output_type": "display_data"
    },
    {
     "name": "stdout",
     "output_type": "stream",
     "text": [
      "\u001b[32m\u001b[32mThat\u001b[32m's\u001b[32m fantastic\u001b[32m!\u001b[32m Well\u001b[32m done\u001b[32m!\u001b[32m You\u001b[32m've\u001b[32m been\u001b[32m n\u001b[32mailing\u001b[32m these\u001b[32m easy\u001b[32m questions\u001b[32m.\u001b[32m \n",
      "\n",
      "Keep\u001b[32m up\u001b[32m the\u001b[32m fantastic\u001b[32m work\u001b[32m!\u001b[32m Your\u001b[32m practice\u001b[32m is\u001b[32m paying\u001b[32m off\u001b[32m!"
     ]
    },
    {
     "data": {
      "text/html": [
       "<pre style=\"white-space:pre;overflow-x:auto;line-height:normal;font-family:Menlo,'DejaVu Sans Mono',consolas,'Courier New',monospace\">\n",
       "</pre>\n"
      ],
      "text/plain": [
       "\n"
      ]
     },
     "metadata": {},
     "output_type": "display_data"
    },
    {
     "data": {
      "text/html": [
       "<pre style=\"white-space:pre;overflow-x:auto;line-height:normal;font-family:Menlo,'DejaVu Sans Mono',consolas,'Courier New',monospace\">*<span style=\"font-weight: bold\">(</span>Teacher<span style=\"font-weight: bold\">)</span> <span style=\"color: #c0c0c0; text-decoration-color: #c0c0c0\"> Entity.LLM </span> <span style=\"color: #008000; text-decoration-color: #008000; font-weight: bold\">Entity.LLM</span><span style=\"font-weight: bold\">(</span>          <span style=\"font-weight: bold\">)</span> <span style=\"font-weight: bold\">(</span>=&gt;          <span style=\"font-weight: bold\">)</span> <span style=\"font-weight: bold\">(</span>X           <span style=\"font-weight: bold\">)</span>       <span style=\"font-weight: bold\">(</span>          <span style=\"font-weight: bold\">)</span> <span style=\"color: #008000; text-decoration-color: #008000\">That's fantastic! Well done! You've been nailing these easy questions. </span>\n",
       "\n",
       "<span style=\"color: #008000; text-decoration-color: #008000\">Keep up the fantastic work! Your practice is paying off!</span>\n",
       "</pre>\n"
      ],
      "text/plain": [
       "*\u001b[1m(\u001b[0mTeacher\u001b[1m)\u001b[0m \u001b[37m Entity.LLM \u001b[0m \u001b[1;32mEntity.LLM\u001b[0m\u001b[1m(\u001b[0m          \u001b[1m)\u001b[0m \u001b[1m(\u001b[0m=>          \u001b[1m)\u001b[0m \u001b[1m(\u001b[0mX           \u001b[1m)\u001b[0m       \u001b[1m(\u001b[0m          \u001b[1m)\u001b[0m \u001b[32mThat's fantastic! Well done! You've been nailing these easy questions. \u001b[0m\n",
       "\n",
       "\u001b[32mKeep up the fantastic work! Your practice is paying off!\u001b[0m\n"
      ]
     },
     "metadata": {},
     "output_type": "display_data"
    },
    {
     "data": {
      "text/html": [
       "<pre style=\"white-space:pre;overflow-x:auto;line-height:normal;font-family:Menlo,'DejaVu Sans Mono',consolas,'Courier New',monospace\"><span style=\"color: #000080; text-decoration-color: #000080\">Human (respond or q, x to exit current level, or hit enter to continue)</span>\n",
       ": </pre>\n"
      ],
      "text/plain": [
       "\u001b[34mHuman (respond or q, x to exit current level, or hit enter to continue)\u001b[0m\n",
       ": "
      ]
     },
     "metadata": {},
     "output_type": "display_data"
    },
    {
     "name": "stdin",
     "output_type": "stream",
     "text": [
      " thank you\n"
     ]
    },
    {
     "data": {
      "text/html": [
       "<pre style=\"white-space:pre;overflow-x:auto;line-height:normal;font-family:Menlo,'DejaVu Sans Mono',consolas,'Courier New',monospace\">*<span style=\"font-weight: bold\">(</span>Teacher<span style=\"font-weight: bold\">)</span> <span style=\"color: #c0c0c0; text-decoration-color: #c0c0c0\"> Entity.USER </span> <span style=\"color: #000080; text-decoration-color: #000080; font-weight: bold\">Entity.USER</span><span style=\"font-weight: bold\">(</span>          <span style=\"font-weight: bold\">)</span> <span style=\"font-weight: bold\">(</span>=&gt;          <span style=\"font-weight: bold\">)</span> <span style=\"font-weight: bold\">(</span>X           <span style=\"font-weight: bold\">)</span>       <span style=\"font-weight: bold\">(</span>          <span style=\"font-weight: bold\">)</span> <span style=\"color: #000080; text-decoration-color: #000080\">thank you</span>\n",
       "</pre>\n"
      ],
      "text/plain": [
       "*\u001b[1m(\u001b[0mTeacher\u001b[1m)\u001b[0m \u001b[37m Entity.USER \u001b[0m \u001b[1;34mEntity.USER\u001b[0m\u001b[1m(\u001b[0m          \u001b[1m)\u001b[0m \u001b[1m(\u001b[0m=>          \u001b[1m)\u001b[0m \u001b[1m(\u001b[0mX           \u001b[1m)\u001b[0m       \u001b[1m(\u001b[0m          \u001b[1m)\u001b[0m \u001b[34mthank you\u001b[0m\n"
      ]
     },
     "metadata": {},
     "output_type": "display_data"
    },
    {
     "data": {
      "text/html": [
       "<pre style=\"white-space:pre;overflow-x:auto;line-height:normal;font-family:Menlo,'DejaVu Sans Mono',consolas,'Courier New',monospace\"> <span style=\"font-weight: bold\">(</span>Teacher<span style=\"font-weight: bold\">)</span> <span style=\"color: #800000; text-decoration-color: #800000\"> Entity.AGENT </span>\n",
       "</pre>\n"
      ],
      "text/plain": [
       " \u001b[1m(\u001b[0mTeacher\u001b[1m)\u001b[0m \u001b[31m Entity.AGENT \u001b[0m\n"
      ]
     },
     "metadata": {},
     "output_type": "display_data"
    },
    {
     "data": {
      "text/html": [
       "<pre style=\"white-space:pre;overflow-x:auto;line-height:normal;font-family:Menlo,'DejaVu Sans Mono',consolas,'Courier New',monospace\"></pre>\n"
      ],
      "text/plain": []
     },
     "metadata": {},
     "output_type": "display_data"
    },
    {
     "name": "stdout",
     "output_type": "stream",
     "text": [
      "\u001b[32m\u001b[32mWhat\u001b[32m's\u001b[32m 1\u001b[32m0\u001b[32m divided\u001b[32m by\u001b[32m 5\u001b[32m?\u001b[32m\n",
      "\n",
      "I\u001b[32m'm\u001b[32m here\u001b[32m to\u001b[32m help\u001b[32m you\u001b[32m every\u001b[32m step\u001b[32m of\u001b[32m the\u001b[32m way\u001b[32m,\u001b[32m so\u001b[32m let\u001b[32m's\u001b[32m keep\u001b[32m going\u001b[32m!"
     ]
    },
    {
     "data": {
      "text/html": [
       "<pre style=\"white-space:pre;overflow-x:auto;line-height:normal;font-family:Menlo,'DejaVu Sans Mono',consolas,'Courier New',monospace\">\n",
       "</pre>\n"
      ],
      "text/plain": [
       "\n"
      ]
     },
     "metadata": {},
     "output_type": "display_data"
    },
    {
     "data": {
      "text/html": [
       "<pre style=\"white-space:pre;overflow-x:auto;line-height:normal;font-family:Menlo,'DejaVu Sans Mono',consolas,'Courier New',monospace\">*<span style=\"font-weight: bold\">(</span>Teacher<span style=\"font-weight: bold\">)</span> <span style=\"color: #c0c0c0; text-decoration-color: #c0c0c0\"> Entity.LLM </span> <span style=\"color: #008000; text-decoration-color: #008000; font-weight: bold\">Entity.LLM</span><span style=\"font-weight: bold\">(</span>          <span style=\"font-weight: bold\">)</span> <span style=\"font-weight: bold\">(</span>=&gt;          <span style=\"font-weight: bold\">)</span> <span style=\"font-weight: bold\">(</span>X           <span style=\"font-weight: bold\">)</span>       <span style=\"font-weight: bold\">(</span>          <span style=\"font-weight: bold\">)</span> <span style=\"color: #008000; text-decoration-color: #008000\">What's </span><span style=\"color: #008000; text-decoration-color: #008000; font-weight: bold\">10</span><span style=\"color: #008000; text-decoration-color: #008000\"> divided by </span><span style=\"color: #008000; text-decoration-color: #008000; font-weight: bold\">5</span><span style=\"color: #008000; text-decoration-color: #008000\">?</span>\n",
       "\n",
       "<span style=\"color: #008000; text-decoration-color: #008000\">I'm here to help you every step of the way, so let's keep going!</span>\n",
       "</pre>\n"
      ],
      "text/plain": [
       "*\u001b[1m(\u001b[0mTeacher\u001b[1m)\u001b[0m \u001b[37m Entity.LLM \u001b[0m \u001b[1;32mEntity.LLM\u001b[0m\u001b[1m(\u001b[0m          \u001b[1m)\u001b[0m \u001b[1m(\u001b[0m=>          \u001b[1m)\u001b[0m \u001b[1m(\u001b[0mX           \u001b[1m)\u001b[0m       \u001b[1m(\u001b[0m          \u001b[1m)\u001b[0m \u001b[32mWhat's \u001b[0m\u001b[1;32m10\u001b[0m\u001b[32m divided by \u001b[0m\u001b[1;32m5\u001b[0m\u001b[32m?\u001b[0m\n",
       "\n",
       "\u001b[32mI'm here to help you every step of the way, so let's keep going!\u001b[0m\n"
      ]
     },
     "metadata": {},
     "output_type": "display_data"
    },
    {
     "data": {
      "text/html": [
       "<pre style=\"white-space:pre;overflow-x:auto;line-height:normal;font-family:Menlo,'DejaVu Sans Mono',consolas,'Courier New',monospace\"><span style=\"color: #000080; text-decoration-color: #000080\">Human (respond or q, x to exit current level, or hit enter to continue)</span>\n",
       ": </pre>\n"
      ],
      "text/plain": [
       "\u001b[34mHuman (respond or q, x to exit current level, or hit enter to continue)\u001b[0m\n",
       ": "
      ]
     },
     "metadata": {},
     "output_type": "display_data"
    },
    {
     "name": "stdin",
     "output_type": "stream",
     "text": [
      " ok!\n"
     ]
    },
    {
     "data": {
      "text/html": [
       "<pre style=\"white-space:pre;overflow-x:auto;line-height:normal;font-family:Menlo,'DejaVu Sans Mono',consolas,'Courier New',monospace\">*<span style=\"font-weight: bold\">(</span>Teacher<span style=\"font-weight: bold\">)</span> <span style=\"color: #c0c0c0; text-decoration-color: #c0c0c0\"> Entity.USER </span> <span style=\"color: #000080; text-decoration-color: #000080; font-weight: bold\">Entity.USER</span><span style=\"font-weight: bold\">(</span>          <span style=\"font-weight: bold\">)</span> <span style=\"font-weight: bold\">(</span>=&gt;          <span style=\"font-weight: bold\">)</span> <span style=\"font-weight: bold\">(</span>X           <span style=\"font-weight: bold\">)</span>       <span style=\"font-weight: bold\">(</span>          <span style=\"font-weight: bold\">)</span> <span style=\"color: #000080; text-decoration-color: #000080\">ok!</span>\n",
       "</pre>\n"
      ],
      "text/plain": [
       "*\u001b[1m(\u001b[0mTeacher\u001b[1m)\u001b[0m \u001b[37m Entity.USER \u001b[0m \u001b[1;34mEntity.USER\u001b[0m\u001b[1m(\u001b[0m          \u001b[1m)\u001b[0m \u001b[1m(\u001b[0m=>          \u001b[1m)\u001b[0m \u001b[1m(\u001b[0mX           \u001b[1m)\u001b[0m       \u001b[1m(\u001b[0m          \u001b[1m)\u001b[0m \u001b[34mok!\u001b[0m\n"
      ]
     },
     "metadata": {},
     "output_type": "display_data"
    },
    {
     "data": {
      "text/html": [
       "<pre style=\"white-space:pre;overflow-x:auto;line-height:normal;font-family:Menlo,'DejaVu Sans Mono',consolas,'Courier New',monospace\"> <span style=\"font-weight: bold\">(</span>Teacher<span style=\"font-weight: bold\">)</span> <span style=\"color: #800000; text-decoration-color: #800000\"> Entity.AGENT </span>\n",
       "</pre>\n"
      ],
      "text/plain": [
       " \u001b[1m(\u001b[0mTeacher\u001b[1m)\u001b[0m \u001b[31m Entity.AGENT \u001b[0m\n"
      ]
     },
     "metadata": {},
     "output_type": "display_data"
    },
    {
     "data": {
      "text/html": [
       "<pre style=\"white-space:pre;overflow-x:auto;line-height:normal;font-family:Menlo,'DejaVu Sans Mono',consolas,'Courier New',monospace\"></pre>\n"
      ],
      "text/plain": []
     },
     "metadata": {},
     "output_type": "display_data"
    },
    {
     "name": "stdout",
     "output_type": "stream",
     "text": [
      "\u001b[32m\u001b[32mGreat\u001b[32m job\u001b[32m!\u001b[32m You\u001b[32m answered\u001b[32m all\u001b[32m the\u001b[32m questions\u001b[32m correctly\u001b[32m!\u001b[32m Keep\u001b[32m up\u001b[32m the\u001b[32m excellent\u001b[32m work\u001b[32m,\u001b[32m and\u001b[32m keep\u001b[32m learning\u001b[32m!\u001b[32m \n",
      "\n",
      "Well\u001b[32m done\u001b[32m!"
     ]
    },
    {
     "data": {
      "text/html": [
       "<pre style=\"white-space:pre;overflow-x:auto;line-height:normal;font-family:Menlo,'DejaVu Sans Mono',consolas,'Courier New',monospace\">\n",
       "</pre>\n"
      ],
      "text/plain": [
       "\n"
      ]
     },
     "metadata": {},
     "output_type": "display_data"
    },
    {
     "data": {
      "text/html": [
       "<pre style=\"white-space:pre;overflow-x:auto;line-height:normal;font-family:Menlo,'DejaVu Sans Mono',consolas,'Courier New',monospace\">*<span style=\"font-weight: bold\">(</span>Teacher<span style=\"font-weight: bold\">)</span> <span style=\"color: #c0c0c0; text-decoration-color: #c0c0c0\"> Entity.LLM </span> <span style=\"color: #008000; text-decoration-color: #008000; font-weight: bold\">Entity.LLM</span><span style=\"font-weight: bold\">(</span>          <span style=\"font-weight: bold\">)</span> <span style=\"font-weight: bold\">(</span>=&gt;          <span style=\"font-weight: bold\">)</span> <span style=\"font-weight: bold\">(</span>X           <span style=\"font-weight: bold\">)</span>       <span style=\"font-weight: bold\">(</span>          <span style=\"font-weight: bold\">)</span> <span style=\"color: #008000; text-decoration-color: #008000\">Great job! You answered all the questions correctly! Keep up the excellent work, and keep learning! </span>\n",
       "\n",
       "<span style=\"color: #008000; text-decoration-color: #008000\">Well done!</span>\n",
       "</pre>\n"
      ],
      "text/plain": [
       "*\u001b[1m(\u001b[0mTeacher\u001b[1m)\u001b[0m \u001b[37m Entity.LLM \u001b[0m \u001b[1;32mEntity.LLM\u001b[0m\u001b[1m(\u001b[0m          \u001b[1m)\u001b[0m \u001b[1m(\u001b[0m=>          \u001b[1m)\u001b[0m \u001b[1m(\u001b[0mX           \u001b[1m)\u001b[0m       \u001b[1m(\u001b[0m          \u001b[1m)\u001b[0m \u001b[32mGreat job! You answered all the questions correctly! Keep up the excellent work, and keep learning! \u001b[0m\n",
       "\n",
       "\u001b[32mWell done!\u001b[0m\n"
      ]
     },
     "metadata": {},
     "output_type": "display_data"
    },
    {
     "data": {
      "text/html": [
       "<pre style=\"white-space:pre;overflow-x:auto;line-height:normal;font-family:Menlo,'DejaVu Sans Mono',consolas,'Courier New',monospace\"><span style=\"color: #000080; text-decoration-color: #000080\">Human (respond or q, x to exit current level, or hit enter to continue)</span>\n",
       ": </pre>\n"
      ],
      "text/plain": [
       "\u001b[34mHuman (respond or q, x to exit current level, or hit enter to continue)\u001b[0m\n",
       ": "
      ]
     },
     "metadata": {},
     "output_type": "display_data"
    },
    {
     "name": "stdin",
     "output_type": "stream",
     "text": [
      " q\n"
     ]
    },
    {
     "data": {
      "text/html": [
       "<pre style=\"white-space:pre;overflow-x:auto;line-height:normal;font-family:Menlo,'DejaVu Sans Mono',consolas,'Courier New',monospace\">*<span style=\"font-weight: bold\">(</span>Teacher<span style=\"font-weight: bold\">)</span> <span style=\"color: #c0c0c0; text-decoration-color: #c0c0c0\"> Entity.USER </span> <span style=\"color: #000080; text-decoration-color: #000080; font-weight: bold\">Entity.USER</span><span style=\"font-weight: bold\">(</span>          <span style=\"font-weight: bold\">)</span> <span style=\"font-weight: bold\">(</span>=&gt;          <span style=\"font-weight: bold\">)</span> <span style=\"font-weight: bold\">(</span>X           <span style=\"font-weight: bold\">)</span>       <span style=\"font-weight: bold\">(</span>          <span style=\"font-weight: bold\">)</span> <span style=\"color: #000080; text-decoration-color: #000080\">q</span>\n",
       "</pre>\n"
      ],
      "text/plain": [
       "*\u001b[1m(\u001b[0mTeacher\u001b[1m)\u001b[0m \u001b[37m Entity.USER \u001b[0m \u001b[1;34mEntity.USER\u001b[0m\u001b[1m(\u001b[0m          \u001b[1m)\u001b[0m \u001b[1m(\u001b[0m=>          \u001b[1m)\u001b[0m \u001b[1m(\u001b[0mX           \u001b[1m)\u001b[0m       \u001b[1m(\u001b[0m          \u001b[1m)\u001b[0m \u001b[34mq\u001b[0m\n"
      ]
     },
     "metadata": {},
     "output_type": "display_data"
    },
    {
     "data": {
      "text/html": [
       "<pre style=\"white-space:pre;overflow-x:auto;line-height:normal;font-family:Menlo,'DejaVu Sans Mono',consolas,'Courier New',monospace\"><span style=\"color: #800080; text-decoration-color: #800080\">Bye, hope this was useful!</span>\n",
       "</pre>\n"
      ],
      "text/plain": [
       "\u001b[35mBye, hope this was useful!\u001b[0m\n"
      ]
     },
     "metadata": {},
     "output_type": "display_data"
    },
    {
     "data": {
      "text/html": [
       "<pre style=\"white-space:pre;overflow-x:auto;line-height:normal;font-family:Menlo,'DejaVu Sans Mono',consolas,'Courier New',monospace\"><span style=\"color: #800080; text-decoration-color: #800080; font-weight: bold\">&lt;&lt;&lt; Finished Agent Teacher (</span><span style=\"color: #800080; text-decoration-color: #800080; font-weight: bold\">22</span><span style=\"color: #800080; text-decoration-color: #800080; font-weight: bold\">) </span>\n",
       "</pre>\n"
      ],
      "text/plain": [
       "\u001b[1;35m<<< Finished Agent Teacher \u001b[0m\u001b[1;35m(\u001b[0m\u001b[1;35m22\u001b[0m\u001b[1;35m)\u001b[0m\u001b[1;35m \u001b[0m\n"
      ]
     },
     "metadata": {},
     "output_type": "display_data"
    },
    {
     "data": {
      "text/plain": [
       "ChatDocument(content='q', metadata=ChatDocMetaData(source='User', is_chunk=False, id='', window_ids=[], parent=None, sender=<Entity.USER: 'User'>, tool_ids=[], parent_responder=None, block=None, sender_name='Teacher', recipient='', usage=None, cached=False, displayed=False), function_call=None, tool_messages=[], attachment=None)"
      ]
     },
     "execution_count": 6,
     "metadata": {},
     "output_type": "execute_result"
    }
   ],
   "source": [
    "# 2-agent chat loop: Teacher Agent asks questions to Student Agent\n",
    "# teacher\n",
    "teacher_agent = lr.ChatAgent(agent_cfg)\n",
    "teacher_task = lr.Task(\n",
    "  teacher_agent, name=\"Teacher\",\n",
    "  system_message=\"\"\"\n",
    "    Ask your student concise numbers questions, and give feedback. \n",
    "    Start with a question.\n",
    "    \"\"\"\n",
    ")\n",
    "\n",
    "# student \n",
    "student_agent = lr.ChatAgent(agent_cfg)\n",
    "student_task = lr.Task(\n",
    "  student_agent, name=\"Student\",\n",
    "  system_message=\"Concisely answer the teacher's questions.\",\n",
    "  single_round=True,\n",
    ")\n",
    "\n",
    "# run tasks\n",
    "teacher_task.add_sub_task(student_task)\n",
    "teacher_task.run()"
   ]
  }
 ],
 "metadata": {
  "kernelspec": {
   "display_name": "library",
   "language": "python",
   "name": "library"
  },
  "language_info": {
   "codemirror_mode": {
    "name": "ipython",
    "version": 3
   },
   "file_extension": ".py",
   "mimetype": "text/x-python",
   "name": "python",
   "nbconvert_exporter": "python",
   "pygments_lexer": "ipython3",
   "version": "3.11.8"
  }
 },
 "nbformat": 4,
 "nbformat_minor": 5
}
