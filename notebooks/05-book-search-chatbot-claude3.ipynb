{
 "cells": [
  {
   "cell_type": "markdown",
   "id": "58642f9f-8272-4838-bb69-6e3c147244e7",
   "metadata": {
    "jp-MarkdownHeadingCollapsed": true
   },
   "source": [
    "# Scify is back\n",
    "\n",
    "### Who is Scify?\n",
    "An LLM chatbot who is expected to \n",
    "1) find books on [Project Gutenberg](https://www.gutenberg.org/)\n",
    "2) find the txt url for each book\n",
    "\n",
    "\n",
    "### How was Scify?\n",
    " * In [my experiemnt](https://github.com/dujm/book-reader/blob/master/notebooks/03-chatbot.ipynb), I used `llama2 7B` (Ollma ID `78e26419b446`) \n",
    " * Scify did a good job in finding the relevant books, but failed to find the relevant text urls.\n",
    "\n",
    "<br>\n",
    "\n",
    "### How is Scify different now? \n",
    " * In this experiment, I used Anthropic's Claude-3 model (`claude-3-opus-20240229`).\n",
    "\n",
    "#### Result\n",
    " * Claude 3 helped Scify to significantly improve its performance (i.e. no hallucination).\n",
    " * Scify did not only find the relevant books, but also the correct txt urls. \n",
    "\n"
   ]
  },
  {
   "cell_type": "markdown",
   "id": "ecf49e49-b97e-49a7-9abf-f0fddb7dcbbf",
   "metadata": {},
   "source": [
    "# Settings"
   ]
  },
  {
   "cell_type": "markdown",
   "id": "4b33d64d-4680-49a6-996c-64e8285f518d",
   "metadata": {},
   "source": [
    "### Packages"
   ]
  },
  {
   "cell_type": "code",
   "execution_count": 1,
   "id": "c0a4333f-afc5-4712-85f9-e7c8c08b00ce",
   "metadata": {},
   "outputs": [],
   "source": [
    "import os\n",
    "\n",
    "# send HTTP requests\n",
    "import requests\n",
    "\n",
    "# process Python abstract syntax\n",
    "import ast\n",
    "\n",
    "# pretty print\n",
    "from pprint import pprint\n",
    "\n",
    "\n",
    "\n",
    "# load the .env file (for saving API keys, see details in `.env_example file`)\n",
    "import dotenv\n",
    "dotenv.load_dotenv()\n",
    "\n",
    "# assign loaded API keys to variables\n",
    "ANTHROPIC_API_KEY = os.getenv(\"ANTHROPIC_API_KEY\")"
   ]
  },
  {
   "cell_type": "markdown",
   "id": "9f73da92-71fa-42ab-bed6-1e3e8a31ca23",
   "metadata": {},
   "source": [
    "### Variables"
   ]
  },
  {
   "cell_type": "code",
   "execution_count": 2,
   "id": "0f8c0730-0b05-4f22-aef5-2ccc1b8bf88c",
   "metadata": {},
   "outputs": [],
   "source": [
    "#----------------------#\n",
    "# model related\n",
    "#----------------------#\n",
    "# API \n",
    "API = \"https://api.anthropic.com/v1/messages\"\n",
    "\n",
    "# model\n",
    "llm_model_id = 'claude-3-opus-20240229'\n",
    "\n",
    "\n",
    "#----------------------#\n",
    "# query related\n",
    "#----------------------#\n",
    "# topic \n",
    "topic = \"Science Fiction\"\n",
    "\n",
    "# number of results I want to get\n",
    "n= 5"
   ]
  },
  {
   "cell_type": "markdown",
   "id": "f987204f-a43f-452b-932b-f06bbd4a150b",
   "metadata": {},
   "source": [
    "# Build the backbone of an LLM Chatbot"
   ]
  },
  {
   "cell_type": "code",
   "execution_count": 3,
   "id": "486c149c-0ffb-4a19-823e-1515c4444743",
   "metadata": {},
   "outputs": [],
   "source": [
    "# system prompt\n",
    "system_prompt = f\"\"\"\n",
    "    You are a world-class journalist. \n",
    "    You are very good at searching relevant information on a website.\n",
    "    Generate a list of {n} results\"\"\"\n",
    "\n",
    "\n",
    "# human input prompt \n",
    "human_prompt =f\"\"\"\n",
    "     Please go to 'https://www.gutenberg.org/', search for  {topic}\n",
    "     list the most popular {n} books and their matched Plain Text UTF-8 links on 'https://www.gutenberg.org/'\n",
    "     Respond with the book title and links.\n",
    "     For example, the most popular Book is\n",
    "     ['The Time Machine': 'https://www.gutenberg.org/cache/epub/35/pg35.txt']\n",
    "     Return a pretty list of python readable form. \n",
    "\"\"\"\n",
    "\n",
    "#----------------------#\n",
    "# preparing work for sending 'post' requests \n",
    "#----------------------#\n",
    "# headers\n",
    "headers = {\n",
    "        \"x-api-key\": ANTHROPIC_API_KEY,\n",
    "        \"anthropic-version\": \"2023-06-01\",\n",
    "        \"content-type\": \"application/json\"}\n",
    "\n",
    "\n",
    "\n",
    "# message\n",
    "messages = [{\"role\": \"user\", \n",
    "             \"content\": human_prompt}]\n",
    "\n",
    "\n",
    "# data to send\n",
    "data = {\n",
    "        \"model\": llm_model_id,\n",
    "        \"max_tokens\": 1000,\n",
    "        \"temperature\": 0.5,\n",
    "        \"system\": system_prompt,\n",
    "        \"messages\": messages,\n",
    "    }"
   ]
  },
  {
   "cell_type": "markdown",
   "id": "7411ca85-a536-423e-be28-ff63cf0a14e7",
   "metadata": {},
   "source": [
    "# Start Chatting"
   ]
  },
  {
   "cell_type": "code",
   "execution_count": 4,
   "id": "33f6a240-ae31-4b80-b87d-24284cd65616",
   "metadata": {},
   "outputs": [],
   "source": [
    "response = requests.post(API, \n",
    "                         headers=headers, \n",
    "                         json=data)\n"
   ]
  },
  {
   "cell_type": "code",
   "execution_count": 5,
   "id": "a4bc2eba-0f14-4e11-beff-7af0aa67821e",
   "metadata": {},
   "outputs": [
    {
     "data": {
      "text/plain": [
       "\"Here are the 5 most popular Science Fiction books on Project Gutenberg with their Plain Text UTF-8 links:\\n\\n[\\n    ['The War of the Worlds', 'https://www.gutenberg.org/files/36/36-0.txt'],\\n    ['The Time Machine', 'https://www.gutenberg.org/files/35/35-0.txt'],\\n    ['Flatland: A Romance of Many Dimensions', 'https://www.gutenberg.org/cache/epub/201/pg201.txt'],\\n    ['The Invisible Man', 'https://www.gutenberg.org/files/5230/5230-0.txt'],\\n    ['A Princess of Mars', 'https://www.gutenberg.org/files/62/62-0.txt']\\n]\""
      ]
     },
     "execution_count": 5,
     "metadata": {},
     "output_type": "execute_result"
    }
   ],
   "source": [
    "# convert to text \n",
    "response_text = response.json()['content'][0]['text']\n",
    "\n",
    "response_text"
   ]
  },
  {
   "cell_type": "markdown",
   "id": "eee1d8e7-1b14-4712-8e2a-b8b3e1029b1e",
   "metadata": {},
   "source": [
    "### Result "
   ]
  },
  {
   "cell_type": "code",
   "execution_count": 6,
   "id": "fcbee538-e229-4749-b4f6-e07833f152cf",
   "metadata": {},
   "outputs": [
    {
     "name": "stdout",
     "output_type": "stream",
     "text": [
      "(['The War of the Worlds', 'https://www.gutenberg.org/files/36/36-0.txt'],\n",
      " ['The Time Machine', 'https://www.gutenberg.org/files/35/35-0.txt'],\n",
      " ['Flatland: A Romance of Many Dimensions',\n",
      "  'https://www.gutenberg.org/cache/epub/201/pg201.txt'],\n",
      " ['The Invisible Man', 'https://www.gutenberg.org/files/5230/5230-0.txt'],\n",
      " ['A Princess of Mars', 'https://www.gutenberg.org/files/62/62-0.txt'])\n"
     ]
    }
   ],
   "source": [
    "# get clean result\n",
    "results =\"\".join(response_text.splitlines()[3:n+3]).lstrip()\n",
    "\n",
    "# find out what current syntax grammar looks like programmatically (in this case, turn a string into a list)\n",
    "result_display= ast.literal_eval(results )\n",
    "\n",
    "# pretty print\n",
    "pprint(result_display)"
   ]
  }
 ],
 "metadata": {
  "kernelspec": {
   "display_name": "library",
   "language": "python",
   "name": "library"
  },
  "language_info": {
   "codemirror_mode": {
    "name": "ipython",
    "version": 3
   },
   "file_extension": ".py",
   "mimetype": "text/x-python",
   "name": "python",
   "nbconvert_exporter": "python",
   "pygments_lexer": "ipython3",
   "version": "3.11.8"
  }
 },
 "nbformat": 4,
 "nbformat_minor": 5
}
