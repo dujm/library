{
 "cells": [
  {
   "cell_type": "markdown",
   "id": "849a5f67-e079-4b48-85dd-1f18e26e8239",
   "metadata": {},
   "source": [
    "# Coni\n",
    "### Who is Coni?   \n",
    " * Coni is **a librarian-like LLM agent**, who can organize digital collections (images, text, etc.)\n",
    " * This notebooks shows how Coni can **generate image captions** quickly and easily.\n",
    "\n",
    "### How was Coni created? \n",
    " * Agent creation framework: `Langchain`\n",
    " * LLM model:Cohere's  `command-r` LLM model\n",
    " * An image captioning tool: using Salesforce's image caption model (`blip-image-captioning-large model`)\n",
    " * [Ref](https://github.com/sugarforever/LangChain-Tutorials/blob/main/LangChain_AI_Image_Recognition.ipynb)\n"
   ]
  },
  {
   "cell_type": "markdown",
   "id": "d7617fb3-8f4b-450c-b061-e8c03d763e29",
   "metadata": {},
   "source": [
    "# 1. Setting"
   ]
  },
  {
   "cell_type": "markdown",
   "id": "7ccabc01-9e41-4e0a-a26f-331e2a0fceea",
   "metadata": {},
   "source": [
    "### To use Cohere's `command-r` LLM model\n",
    " * get an API key from https://cohere.com"
   ]
  },
  {
   "cell_type": "markdown",
   "id": "7b6765b7-255f-4f81-9c39-6785941a5256",
   "metadata": {},
   "source": [
    "### Packages"
   ]
  },
  {
   "cell_type": "code",
   "execution_count": 1,
   "id": "2c304bd8-f6d2-4313-8b92-813dcea0f457",
   "metadata": {},
   "outputs": [],
   "source": [
    "# install the packages if they are not installed yet \n",
    "#%pip install langchain-cohere"
   ]
  },
  {
   "cell_type": "code",
   "execution_count": 2,
   "id": "aab3e889-d396-497e-b8d2-a03feb9cecb4",
   "metadata": {},
   "outputs": [
    {
     "data": {
      "text/plain": [
       "True"
      ]
     },
     "execution_count": 2,
     "metadata": {},
     "output_type": "execute_result"
    }
   ],
   "source": [
    "import os\n",
    "\n",
    "# to send http requests\n",
    "import requests\n",
    "\n",
    "# python imaging library\n",
    "from PIL import Image\n",
    "\n",
    "# for using model through langchain_cohere\n",
    "from langchain_cohere.chat_models import ChatCohere\n",
    "\n",
    "# for agents\n",
    "from langchain.tools import BaseTool\n",
    "from langchain.agents import AgentExecutor\n",
    "from langchain_cohere.react_multi_hop.agent import create_cohere_react_agent\n",
    "\n",
    "# for prompting\n",
    "from langchain_core.prompts import ChatPromptTemplate\n",
    "\n",
    "# for using BLIP model\n",
    "from transformers import BlipProcessor, BlipForConditionalGeneration\n",
    "\n",
    "\n",
    "# load the .env file (for saving API keys, see details in `.env_example file`)\n",
    "import dotenv\n",
    "dotenv.load_dotenv()"
   ]
  },
  {
   "cell_type": "markdown",
   "id": "a87bbaa2-4456-4121-8cea-ce24fd7c8d0e",
   "metadata": {},
   "source": [
    "## 2. Create 'Coni'"
   ]
  },
  {
   "cell_type": "markdown",
   "id": "50817d79-a5b5-48d6-abf9-ee006ecd75fc",
   "metadata": {},
   "source": [
    "### 1) Choose an LLM model "
   ]
  },
  {
   "cell_type": "code",
   "execution_count": 3,
   "id": "aab15204-d07e-4472-a8e9-509460835541",
   "metadata": {},
   "outputs": [],
   "source": [
    "# model id\n",
    "llm_model_id = \"command-r\"\n",
    "\n",
    "# llm model\n",
    "llm = ChatCohere(model=llm_model_id,temperature=0)"
   ]
  },
  {
   "cell_type": "markdown",
   "id": "acded24e-1cce-4425-8b16-8cd8bb3961d0",
   "metadata": {},
   "source": [
    "### 2) Prepare tools"
   ]
  },
  {
   "cell_type": "code",
   "execution_count": 4,
   "id": "b70f7585-e48a-4596-98ad-a5548b3de39e",
   "metadata": {},
   "outputs": [],
   "source": [
    "# Salesforce's image caption model\n",
    "image_to_text_model = \"Salesforce/blip-image-captioning-large\"\n",
    "\n",
    "# a function for generating image captions\n",
    "def describeImage(image_url, image_to_text_model =image_to_text_model): \n",
    "    processor = BlipProcessor.from_pretrained(image_to_text_model)\n",
    "    model = BlipForConditionalGeneration.from_pretrained(image_to_text_model)\n",
    "\n",
    "  # image\n",
    "    image_object = Image.open(requests.get(image_url, stream=True).raw).convert('RGB')\n",
    "    inputs = processor(image_object, return_tensors=\"pt\")\n",
    "    outputs = model.generate(**inputs,max_length= 60)\n",
    "    return processor.decode(outputs[0], skip_special_tokens=True)\n",
    "\n",
    "# convert to a langchain tool\n",
    "class DescribeImageTool(BaseTool):\n",
    "    name = \"Describe Image Tool\"\n",
    "    description = 'use this tool to describe an image.'\n",
    "\n",
    "    def _run(self, url: str):\n",
    "        description = describeImage(url)\n",
    "        return description\n",
    "\n",
    "# a list of tools to give to the agent\n",
    "tools = [DescribeImageTool()] "
   ]
  },
  {
   "cell_type": "markdown",
   "id": "09e48515-899c-4237-ad97-e9c58f8cbba1",
   "metadata": {},
   "source": [
    "### 3) Create the agent"
   ]
  },
  {
   "cell_type": "code",
   "execution_count": 5,
   "id": "419f38a0-1923-4878-8c4e-aa7a3a7d4575",
   "metadata": {},
   "outputs": [],
   "source": [
    "# create a cohere react agent\n",
    "agent = create_cohere_react_agent(\n",
    "        llm=llm,\n",
    "        tools=tools, \n",
    "        prompt=ChatPromptTemplate.from_template(\"{input}\"),\n",
    "    )\n",
    "\n",
    "# calls the agent\n",
    "agent_executor = AgentExecutor(agent=agent, \n",
    "                               tools=tools, \n",
    "                               intermediate_steps=False,\n",
    "                               verbose=False,\n",
    "                               handle_parsing_errors=True)\n",
    "\n"
   ]
  },
  {
   "cell_type": "markdown",
   "id": "40b0a3e5-0fae-440c-8cdd-38bd6c0f664f",
   "metadata": {},
   "source": [
    "## 3. Ask Coni to generate image captions"
   ]
  },
  {
   "cell_type": "markdown",
   "id": "26df0c7e-9069-449d-811b-843b18d43a80",
   "metadata": {},
   "source": [
    "### Input image"
   ]
  },
  {
   "cell_type": "code",
   "execution_count": 6,
   "id": "ffb84669-7d51-4b86-b138-ee763fe13cf1",
   "metadata": {},
   "outputs": [],
   "source": [
    "# image url \n",
    "image_url = 'https://cf.bstatic.com/xdata/images/hotel/max1024x768/98905830.jpg?k=2b38bc577ed6bc85917a7d1e794c2f4b5904cb506e860913ba19db62444bf014&o=&hp=1'"
   ]
  },
  {
   "cell_type": "markdown",
   "id": "6224a437-fd7d-40a5-8f1f-ff079ace8d2b",
   "metadata": {},
   "source": [
    "### Have a look at the image"
   ]
  },
  {
   "cell_type": "markdown",
   "id": "a57be9dd-5e0c-494f-bc6e-eab16cb29def",
   "metadata": {},
   "source": [
    "<div>\n",
    "<img src=\"https://cf.bstatic.com/xdata/images/hotel/max1024x768/98905830.jpg?k=2b38bc577ed6bc85917a7d1e794c2f4b5904cb506e860913ba19db62444bf014&o=&hp=1\" width=\"400\"/>\n",
    "</div>"
   ]
  },
  {
   "cell_type": "markdown",
   "id": "09451f4a-5750-4ee6-8449-e225b30ff78e",
   "metadata": {},
   "source": [
    "### Generate a caption"
   ]
  },
  {
   "cell_type": "code",
   "execution_count": 7,
   "id": "fcc2b700-5bd1-4e83-9da0-80bcbd2687cc",
   "metadata": {
    "scrolled": true
   },
   "outputs": [],
   "source": [
    "# question\n",
    "input_text = f\"Generate a captivating caption for the image:\\n{image_url}\"\n",
    "\n",
    "# agent at work \n",
    "content=agent_executor.invoke(\n",
    "                {\"input\":input_text})\n",
    "\n",
    "# generated description \n",
    "description = content['output']\n"
   ]
  },
  {
   "cell_type": "markdown",
   "id": "c9c00ac7-6d8c-4a8e-a899-6d2970a9713f",
   "metadata": {},
   "source": [
    "### Result"
   ]
  },
  {
   "cell_type": "code",
   "execution_count": 8,
   "id": "28b159c7-91a7-4375-8726-a62b209d984a",
   "metadata": {},
   "outputs": [
    {
     "name": "stdout",
     "output_type": "stream",
     "text": [
      "\u001b[31m\"A monkey in uniform holds a bell, ready to welcome guests to a grand hotel.\"\u001b[0m\n"
     ]
    }
   ],
   "source": [
    "# print the caption in red color \n",
    "print(f\"\\x1b[31m\\\"{description}\\\"\\x1b[0m\")"
   ]
  }
 ],
 "metadata": {
  "kernelspec": {
   "display_name": "library",
   "language": "python",
   "name": "library"
  },
  "language_info": {
   "codemirror_mode": {
    "name": "ipython",
    "version": 3
   },
   "file_extension": ".py",
   "mimetype": "text/x-python",
   "name": "python",
   "nbconvert_exporter": "python",
   "pygments_lexer": "ipython3",
   "version": "3.11.8"
  }
 },
 "nbformat": 4,
 "nbformat_minor": 5
}
