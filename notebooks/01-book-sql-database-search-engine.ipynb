{
 "cells": [
  {
   "cell_type": "markdown",
   "id": "eb8fbc7b-9bd6-4a70-b3bd-d18296fe2bc2",
   "metadata": {
    "jp-MarkdownHeadingCollapsed": true
   },
   "source": [
    "# About \n",
    "Here, I build a Text-to-SQL query engine to query a database (built from `00-book-database.ipynb`) \n",
    "- The LLM model I used is Meta's `llama2 7B` model (Ollma ID `78e26419b446`).\n"
   ]
  },
  {
   "cell_type": "markdown",
   "id": "9f3dbeb5-26e1-4937-92ee-88a81a9b9021",
   "metadata": {},
   "source": [
    "# Settings"
   ]
  },
  {
   "cell_type": "markdown",
   "id": "7dde9e63-ac33-45fe-8c16-4a1d325073d5",
   "metadata": {},
   "source": [
    "### Packages"
   ]
  },
  {
   "cell_type": "code",
   "execution_count": 1,
   "id": "65e2b776-254a-4d8e-9fc7-9be1ecf0d894",
   "metadata": {},
   "outputs": [],
   "source": [
    "import os\n",
    "import pandas as pd\n",
    "from tqdm import tqdm\n",
    "\n",
    "# sql related\n",
    "from sqlalchemy import create_engine\n",
    "from sqlalchemy_utils import database_exists\n",
    "\n",
    "# llama_index\n",
    "from llama_index.core import SQLDatabase\n",
    "from llama_index.core.indices.vector_store.base import ServiceContext\n",
    "from llama_index.core.indices.struct_store.sql_query import NLSQLTableQueryEngine\n",
    "\n",
    "\n",
    "# llm model\n",
    "from langchain.llms import Ollama\n"
   ]
  },
  {
   "cell_type": "markdown",
   "id": "c9b59abe-021c-4af8-ab7c-7dc0369286ef",
   "metadata": {},
   "source": [
    "### Variables"
   ]
  },
  {
   "cell_type": "code",
   "execution_count": 2,
   "id": "ec7aa73b-ed66-4361-9808-3c268a9da677",
   "metadata": {},
   "outputs": [],
   "source": [
    "#----------------#\n",
    "# variables that require changes\n",
    "#----------------#\n",
    "llm_model_id =\"llama2\"\n",
    "\n",
    "\n",
    "# databse name\n",
    "db_name =  \"pg_catalog.db\"\n",
    "\n",
    "# sql table name \n",
    "sql_table_name = 'catalog_table'\n",
    "\n"
   ]
  },
  {
   "cell_type": "markdown",
   "id": "21394b41-7cfc-4808-8815-c1a619b04065",
   "metadata": {},
   "source": [
    "### Directories"
   ]
  },
  {
   "cell_type": "code",
   "execution_count": 3,
   "id": "9f8c89fa-fd60-4b0f-a403-be099c52e975",
   "metadata": {},
   "outputs": [],
   "source": [
    "main_Dir = \"../\"\n",
    "\n",
    "#----------------#\n",
    "# data dir\n",
    "#----------------#\n",
    "data_Dir = os.path.join(main_Dir,\"data\")\n",
    "sql_data_Dir=os.path.join(data_Dir,\"sql\")\n",
    "\n",
    "\n",
    "#----------------#\n",
    "# make dirs\n",
    "#----------------#\n",
    "for f in [data_Dir, sql_data_Dir]:\n",
    "    os.makedirs(f, exist_ok=True)"
   ]
  },
  {
   "cell_type": "markdown",
   "id": "560332a4-c31a-468b-8d53-fcb7d1593f98",
   "metadata": {},
   "source": [
    "# Connect to a database "
   ]
  },
  {
   "cell_type": "code",
   "execution_count": 4,
   "id": "5f63ee72-5ba8-498a-b800-227004385b0a",
   "metadata": {},
   "outputs": [
    {
     "name": "stdout",
     "output_type": "stream",
     "text": [
      "db path:../data/sql/pg_catalog.db\n"
     ]
    }
   ],
   "source": [
    "# database path\n",
    "db_path= os.path.join(sql_data_Dir,db_name)\n",
    "print(f\"db path:{db_path}\")"
   ]
  },
  {
   "cell_type": "code",
   "execution_count": 5,
   "id": "23c605d4-25e1-4d22-8e72-03da1e6b1fef",
   "metadata": {},
   "outputs": [],
   "source": [
    "# create a sql engine\n",
    "sql_url = f'sqlite:///{db_path}'\n",
    "\n",
    "#Construct a SQLDatabase Index\n",
    "catalog_db = SQLDatabase.from_uri(sql_url,\n",
    "                         include_tables=[sql_table_name])"
   ]
  },
  {
   "cell_type": "markdown",
   "id": "c7720c9b-4a2c-4107-a5fd-942a8e908309",
   "metadata": {},
   "source": [
    "### Setup a model "
   ]
  },
  {
   "cell_type": "code",
   "execution_count": 6,
   "id": "fa184f41-d0d3-4010-a6f8-d08e8f9d3a32",
   "metadata": {},
   "outputs": [
    {
     "name": "stderr",
     "output_type": "stream",
     "text": [
      "/var/folders/w9/110177p12dsgs8fkfpx2h51m0000gn/T/ipykernel_59860/99248196.py:5: DeprecationWarning: Call to deprecated class method from_defaults. (ServiceContext is deprecated, please use `llama_index.settings.Settings` instead.) -- Deprecated since version 0.10.0.\n",
      "  servicecontext = ServiceContext.from_defaults(llm=llm,\n"
     ]
    }
   ],
   "source": [
    "# model\n",
    "llm = Ollama(model=llm_model_id)\n",
    "\n",
    "# context\n",
    "servicecontext = ServiceContext.from_defaults(llm=llm,\n",
    "                                              embed_model=\"local\",\n",
    "                                              chunk_size=500)"
   ]
  },
  {
   "cell_type": "code",
   "execution_count": 7,
   "id": "1673aad5-a486-4f1d-9f2f-c1ea548ab819",
   "metadata": {},
   "outputs": [],
   "source": [
    "# query engine\n",
    "sql_query_engine = NLSQLTableQueryEngine(sql_database=catalog_db,\n",
    "                                         tables=[sql_table_name],\n",
    "                                         service_context=servicecontext)"
   ]
  },
  {
   "cell_type": "markdown",
   "id": "b8008125-30fb-4c3e-bcb2-a8b749700867",
   "metadata": {},
   "source": [
    "# Ask Questions\n",
    "### Select 5 books from a certain category"
   ]
  },
  {
   "cell_type": "code",
   "execution_count": 9,
   "id": "8e7d8609-d472-40aa-89d1-8238f6b0b9b6",
   "metadata": {},
   "outputs": [
    {
     "data": {
      "text/plain": [
       "'Using the provided table \"catalog_table\", return the top 5 \"Book\" along with their \"ID\" from the \"Humor\" \"Bookshelves\".'"
      ]
     },
     "execution_count": 9,
     "metadata": {},
     "output_type": "execute_result"
    }
   ],
   "source": [
    "# the type of books\n",
    "selection_keyword =\"Humor\"\n",
    "\n",
    "# Specify where to query\n",
    "selection_column = \"Bookshelves\"\n",
    "\n",
    "# Form the question\n",
    "selection_question= f'Using the provided table \"{sql_table_name}\", return the top 5 \"Book\" along with their \"ID\" from the \"{selection_keyword}\" \"{selection_column}\".'\n",
    "selection_question"
   ]
  },
  {
   "cell_type": "code",
   "execution_count": 10,
   "id": "f0e64919-676a-46d9-aeda-abe7f9f098a4",
   "metadata": {},
   "outputs": [
    {
     "name": "stderr",
     "output_type": "stream",
     "text": [
      "/Users/j/miniconda3/envs/library/lib/python3.11/site-packages/langchain_core/_api/deprecation.py:117: LangChainDeprecationWarning: The function `predict` was deprecated in LangChain 0.1.7 and will be removed in 0.2.0. Use invoke instead.\n",
      "  warn_deprecated(\n"
     ]
    },
    {
     "data": {
      "text/plain": [
       "[('Wit and Wisdom of Don Quixote', 24754),\n",
       " ('Winsome Winnie and other New Nonsense Novels', 20633),\n",
       " ('William Tell Told Again', 7298),\n",
       " ('Vice Versa; or, A Lesson to Fathers', 26853),\n",
       " ('Uneasy Money', 6684)]"
      ]
     },
     "execution_count": 10,
     "metadata": {},
     "output_type": "execute_result"
    }
   ],
   "source": [
    "selection_query= sql_query_engine.query(selection_question)\n",
    "selection_query.metadata[\"result\"]"
   ]
  },
  {
   "cell_type": "markdown",
   "id": "13b62abf-6fb0-4167-a8ac-28c79f5b1406",
   "metadata": {},
   "source": [
    "### Select 5 books from another category"
   ]
  },
  {
   "cell_type": "code",
   "execution_count": 17,
   "id": "0ff48ebf-4323-459d-abac-98d164e2b5ed",
   "metadata": {},
   "outputs": [
    {
     "data": {
      "text/plain": [
       "'Using the provided table \"catalog_table\", return the top 10 \"Book\" along with their \"ID\" from the \"Science Fiction\" \"Bookshelves\".'"
      ]
     },
     "execution_count": 17,
     "metadata": {},
     "output_type": "execute_result"
    }
   ],
   "source": [
    "# the type of books\n",
    "selection_keyword =\"Science Fiction\"\n",
    "\n",
    "# Specify where to query\n",
    "selection_column = \"Bookshelves\"\n",
    "\n",
    "# Form the question\n",
    "selection_question= f'Using the provided table \"{sql_table_name}\", return the top 10 \"Book\" along with their \"ID\" from the \"{selection_keyword}\" \"{selection_column}\".'\n",
    "selection_question"
   ]
  },
  {
   "cell_type": "code",
   "execution_count": 18,
   "id": "efe1359b-86c9-47bb-8251-bd0a7865f723",
   "metadata": {},
   "outputs": [
    {
     "data": {
      "text/plain": [
       "[('—And Devious the Line of Duty', 22585),\n",
       " ('Zero Hour', 30476),\n",
       " ('Zero Data', 29727),\n",
       " (\"Zeritsky's Law\", 51234),\n",
       " ('Zen', 29750),\n",
       " ('Zehru of Xollar', 26917),\n",
       " ('Zarlah the Martian', 13423),\n",
       " ('Youth', 31547),\n",
       " (\"You Don't Make Wine Like the Greeks Did\", 31897),\n",
       " ('Yesterday House', 50905)]"
      ]
     },
     "execution_count": 18,
     "metadata": {},
     "output_type": "execute_result"
    }
   ],
   "source": [
    "selection_query= sql_query_engine.query(selection_question)\n",
    "selection_query.metadata[\"result\"]"
   ]
  }
 ],
 "metadata": {
  "kernelspec": {
   "display_name": "library",
   "language": "python",
   "name": "library"
  },
  "language_info": {
   "codemirror_mode": {
    "name": "ipython",
    "version": 3
   },
   "file_extension": ".py",
   "mimetype": "text/x-python",
   "name": "python",
   "nbconvert_exporter": "python",
   "pygments_lexer": "ipython3",
   "version": "3.11.8"
  }
 },
 "nbformat": 4,
 "nbformat_minor": 5
}
