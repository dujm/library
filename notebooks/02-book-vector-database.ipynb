{
 "cells": [
  {
   "cell_type": "markdown",
   "id": "eb8fbc7b-9bd6-4a70-b3bd-d18296fe2bc2",
   "metadata": {},
   "source": [
    "# About \n",
    "\n",
    "This notebook is a usecase about similarity search. \n",
    "\n",
    "Specifically, I build a vector database for searching books with similar \"Subjects\".\n",
    "- The vector database I used is `Chroma`\n",
    "- The file `processed_pg_catalog.csv` was generated from `00-book-database.ipynb`"
   ]
  },
  {
   "cell_type": "markdown",
   "id": "9f3dbeb5-26e1-4937-92ee-88a81a9b9021",
   "metadata": {},
   "source": [
    "# Settings"
   ]
  },
  {
   "cell_type": "markdown",
   "id": "7dde9e63-ac33-45fe-8c16-4a1d325073d5",
   "metadata": {},
   "source": [
    "### Packages"
   ]
  },
  {
   "cell_type": "code",
   "execution_count": 1,
   "id": "65e2b776-254a-4d8e-9fc7-9be1ecf0d894",
   "metadata": {},
   "outputs": [],
   "source": [
    "import os\n",
    "import pandas as pd\n",
    "from tqdm import tqdm\n",
    "\n",
    "\n",
    "# llm model\n",
    "from langchain.llms import Ollama\n",
    "\n",
    "# vector database\n",
    "import chromadb\n",
    "from chromadb.utils import embedding_functions\n",
    "\n",
    "# embeddings\n",
    "from langchain.embeddings import HuggingFaceEmbeddings"
   ]
  },
  {
   "cell_type": "markdown",
   "id": "c9b59abe-021c-4af8-ab7c-7dc0369286ef",
   "metadata": {},
   "source": [
    "### Variables"
   ]
  },
  {
   "cell_type": "code",
   "execution_count": 2,
   "id": "ec7aa73b-ed66-4361-9808-3c268a9da677",
   "metadata": {},
   "outputs": [],
   "source": [
    "#----------------#\n",
    "# variables that require changes\n",
    "#----------------#\n",
    "llm_model_id =\"llama2\"\n",
    "\n",
    "# collection name\n",
    "collection_name ='catalog'\n",
    "\n",
    "#  embeddings\n",
    "embeddings_model_id =\"all-MiniLM-L6-v2\""
   ]
  },
  {
   "cell_type": "markdown",
   "id": "21394b41-7cfc-4808-8815-c1a619b04065",
   "metadata": {},
   "source": [
    "### Directories"
   ]
  },
  {
   "cell_type": "code",
   "execution_count": 3,
   "id": "9f8c89fa-fd60-4b0f-a403-be099c52e975",
   "metadata": {},
   "outputs": [],
   "source": [
    "main_Dir = \"../\"\n",
    "\n",
    "#----------------#\n",
    "# data dir\n",
    "#----------------#\n",
    "data_Dir = os.path.join(main_Dir,\"data\")\n",
    "raw_data_Dir = os.path.join(data_Dir,\"raw\")\n",
    "processed_data_Dir = os.path.join(data_Dir,\"processed\")\n",
    "\n",
    "subjects_chroma_Dir = os.path.join(data_Dir, \"subjects_chroma\")\n",
    "\n",
    "embedding_Dir = os.path.join(data_Dir,f\"{embeddings_model_id}\")\n",
    "\n",
    "#----------------#\n",
    "# make dirs\n",
    "#----------------#\n",
    "for f in [data_Dir, raw_data_Dir, processed_data_Dir, subjects_chroma_Dir, embedding_Dir]:\n",
    "    os.makedirs(f, exist_ok=True)"
   ]
  },
  {
   "cell_type": "markdown",
   "id": "3c6a9c60-c1f0-4a68-a9df-73a9546c076d",
   "metadata": {},
   "source": [
    "# Build a Vector Database"
   ]
  },
  {
   "cell_type": "markdown",
   "id": "560332a4-c31a-468b-8d53-fcb7d1593f98",
   "metadata": {},
   "source": [
    "### Read data"
   ]
  },
  {
   "cell_type": "code",
   "execution_count": 4,
   "id": "5f63ee72-5ba8-498a-b800-227004385b0a",
   "metadata": {},
   "outputs": [
    {
     "data": {
      "text/html": [
       "<div>\n",
       "<style scoped>\n",
       "    .dataframe tbody tr th:only-of-type {\n",
       "        vertical-align: middle;\n",
       "    }\n",
       "\n",
       "    .dataframe tbody tr th {\n",
       "        vertical-align: top;\n",
       "    }\n",
       "\n",
       "    .dataframe thead th {\n",
       "        text-align: right;\n",
       "    }\n",
       "</style>\n",
       "<table border=\"1\" class=\"dataframe\">\n",
       "  <thead>\n",
       "    <tr style=\"text-align: right;\">\n",
       "      <th></th>\n",
       "      <th>ID</th>\n",
       "      <th>Book</th>\n",
       "      <th>Authors</th>\n",
       "      <th>Subjects</th>\n",
       "      <th>Bookshelves</th>\n",
       "    </tr>\n",
       "  </thead>\n",
       "  <tbody>\n",
       "    <tr>\n",
       "      <th>0</th>\n",
       "      <td>1</td>\n",
       "      <td>The Declaration of Independence of the United ...</td>\n",
       "      <td>Jefferson, Thomas, 1743-1826</td>\n",
       "      <td>United States -- History -- Revolution, 1775-1...</td>\n",
       "      <td>Politics</td>\n",
       "    </tr>\n",
       "    <tr>\n",
       "      <th>1</th>\n",
       "      <td>1</td>\n",
       "      <td>The Declaration of Independence of the United ...</td>\n",
       "      <td>Jefferson, Thomas, 1743-1826</td>\n",
       "      <td>United States -- History -- Revolution, 1775-1...</td>\n",
       "      <td>American Revolutionary War</td>\n",
       "    </tr>\n",
       "  </tbody>\n",
       "</table>\n",
       "</div>"
      ],
      "text/plain": [
       "   ID                                               Book  \\\n",
       "0   1  The Declaration of Independence of the United ...   \n",
       "1   1  The Declaration of Independence of the United ...   \n",
       "\n",
       "                        Authors  \\\n",
       "0  Jefferson, Thomas, 1743-1826   \n",
       "1  Jefferson, Thomas, 1743-1826   \n",
       "\n",
       "                                            Subjects  \\\n",
       "0  United States -- History -- Revolution, 1775-1...   \n",
       "1  United States -- History -- Revolution, 1775-1...   \n",
       "\n",
       "                  Bookshelves  \n",
       "0                    Politics  \n",
       "1  American Revolutionary War  "
      ]
     },
     "execution_count": 4,
     "metadata": {},
     "output_type": "execute_result"
    }
   ],
   "source": [
    "filename=\"processed_pg_catalog.csv\"\n",
    "filepath= os.path.join(processed_data_Dir, filename)\n",
    "df = pd.read_csv(filepath,low_memory=False)\n",
    "df.head(2)"
   ]
  },
  {
   "cell_type": "code",
   "execution_count": 5,
   "id": "288b3b3b-29f3-42eb-95c8-1c8b148b7355",
   "metadata": {},
   "outputs": [
    {
     "data": {
      "text/html": [
       "<div>\n",
       "<style scoped>\n",
       "    .dataframe tbody tr th:only-of-type {\n",
       "        vertical-align: middle;\n",
       "    }\n",
       "\n",
       "    .dataframe tbody tr th {\n",
       "        vertical-align: top;\n",
       "    }\n",
       "\n",
       "    .dataframe thead th {\n",
       "        text-align: right;\n",
       "    }\n",
       "</style>\n",
       "<table border=\"1\" class=\"dataframe\">\n",
       "  <thead>\n",
       "    <tr style=\"text-align: right;\">\n",
       "      <th></th>\n",
       "      <th>ID</th>\n",
       "      <th>Book</th>\n",
       "      <th>Authors</th>\n",
       "      <th>Subjects</th>\n",
       "      <th>Bookshelves</th>\n",
       "    </tr>\n",
       "  </thead>\n",
       "  <tbody>\n",
       "    <tr>\n",
       "      <th>0</th>\n",
       "      <td>1</td>\n",
       "      <td>The Declaration of Independence of the United ...</td>\n",
       "      <td>Jefferson, Thomas, 1743-1826</td>\n",
       "      <td>United States -- History -- Revolution, 1775-1...</td>\n",
       "      <td>PoliticsAmerican Revolutionary WarUnited State...</td>\n",
       "    </tr>\n",
       "    <tr>\n",
       "      <th>1</th>\n",
       "      <td>2</td>\n",
       "      <td>The United States Bill of Rights\\r\\nThe Ten Or...</td>\n",
       "      <td>United States</td>\n",
       "      <td>Civil rights -- United States -- Sources; Unit...</td>\n",
       "      <td>PoliticsAmerican Revolutionary WarUnited State...</td>\n",
       "    </tr>\n",
       "  </tbody>\n",
       "</table>\n",
       "</div>"
      ],
      "text/plain": [
       "  ID                                               Book  \\\n",
       "0  1  The Declaration of Independence of the United ...   \n",
       "1  2  The United States Bill of Rights\\r\\nThe Ten Or...   \n",
       "\n",
       "                        Authors  \\\n",
       "0  Jefferson, Thomas, 1743-1826   \n",
       "1                 United States   \n",
       "\n",
       "                                            Subjects  \\\n",
       "0  United States -- History -- Revolution, 1775-1...   \n",
       "1  Civil rights -- United States -- Sources; Unit...   \n",
       "\n",
       "                                         Bookshelves  \n",
       "0  PoliticsAmerican Revolutionary WarUnited State...  \n",
       "1  PoliticsAmerican Revolutionary WarUnited State...  "
      ]
     },
     "execution_count": 5,
     "metadata": {},
     "output_type": "execute_result"
    }
   ],
   "source": [
    "# group Bookshelves so that for each Book, there is only one row.\n",
    "df_group = df.groupby(['ID', 'Book', 'Authors', 'Subjects'])['Bookshelves'].sum().reset_index()\n",
    "\n",
    "# change column type as string\n",
    "df_group['ID'] = df_group['ID'].astype(str)\n",
    "\n",
    "# have a look \n",
    "df_group.head(2)"
   ]
  },
  {
   "cell_type": "markdown",
   "id": "75e0c827-819f-4345-9fd5-2db155890dd2",
   "metadata": {},
   "source": [
    "### Define an embedding function "
   ]
  },
  {
   "cell_type": "code",
   "execution_count": 6,
   "id": "be53bb13-c4c8-443a-a432-fe0785af522f",
   "metadata": {},
   "outputs": [],
   "source": [
    "# create an embedding function \n",
    "embedding_func = embedding_functions.SentenceTransformerEmbeddingFunction(\n",
    "    model_name=embeddings_model_id\n",
    ")"
   ]
  },
  {
   "cell_type": "markdown",
   "id": "6d60332a-656d-43a7-a432-d080d84517c9",
   "metadata": {},
   "source": [
    "### Define a chroma db client "
   ]
  },
  {
   "cell_type": "code",
   "execution_count": 7,
   "id": "3737ffd1-81de-406f-964b-46f2ea502922",
   "metadata": {},
   "outputs": [],
   "source": [
    "# create a ChromaDB client\n",
    "client = chromadb.PersistentClient(path=subjects_chroma_Dir)\n",
    "\n",
    "# delete a collection\n",
    "#client = client.delete_collection(collection_name)\n",
    "\n",
    "# if you need reset client\n",
    "#client.reset()"
   ]
  },
  {
   "cell_type": "markdown",
   "id": "5ab9a372-f672-4179-adac-978e82fe279b",
   "metadata": {},
   "source": [
    "### Instantiate a ChromaDB collection\n",
    "A collection is the object that stores your embedded documents along with any associated metadata. "
   ]
  },
  {
   "cell_type": "code",
   "execution_count": 8,
   "id": "86a22e11-6e4b-45d7-9f4d-b710cc6dcde1",
   "metadata": {},
   "outputs": [],
   "source": [
    "# create collection\n",
    "collection = client.create_collection(\n",
    "    name=collection_name,\n",
    "    embedding_function=embedding_func,\n",
    "    metadata={\"hnsw:space\": \"cosine\"}\n",
    ")"
   ]
  },
  {
   "cell_type": "markdown",
   "id": "51fe3a43-39ee-47f7-b4ec-8c96057f03bc",
   "metadata": {},
   "source": [
    "### Add documents and metadata to collection "
   ]
  },
  {
   "cell_type": "code",
   "execution_count": 10,
   "id": "7892bb6d-a70e-4cef-aaf6-6de7b439f0ef",
   "metadata": {},
   "outputs": [],
   "source": [
    "# documents: a list of \"Subjects\" \n",
    "documents = df_group[\"Subjects\"].to_list()\n",
    "\n",
    "# ids: a list of unique ids (make sure, string type)\n",
    "ids = df_group[\"ID\"].astype(str).to_list()\n",
    "\n",
    "# meta data: a list of dictionary containing other columns\n",
    "dict_meta = df_group[[\"Book\",\"Authors\",\"Bookshelves\"]].to_dict(orient='records')\n"
   ]
  },
  {
   "cell_type": "code",
   "execution_count": 11,
   "id": "a4a42d4c-88c6-4cc2-98de-6cb42786a00d",
   "metadata": {
    "scrolled": true
   },
   "outputs": [],
   "source": [
    "# add embeddings to collection\n",
    "collection.add(\n",
    "    documents=documents, # Subjects\n",
    "    ids=ids,\n",
    "    metadatas=dict_meta,\n",
    ")"
   ]
  },
  {
   "cell_type": "code",
   "execution_count": 12,
   "id": "60da133f-ceb1-41cd-8a44-6cf98697f1f5",
   "metadata": {},
   "outputs": [
    {
     "data": {
      "text/plain": [
       "11314"
      ]
     },
     "execution_count": 12,
     "metadata": {},
     "output_type": "execute_result"
    }
   ],
   "source": [
    "# count the embeddings added to the collection\n",
    "collection.count()"
   ]
  },
  {
   "cell_type": "markdown",
   "id": "c7720c9b-4a2c-4107-a5fd-942a8e908309",
   "metadata": {},
   "source": [
    "# Query the Vector Database\n"
   ]
  },
  {
   "cell_type": "markdown",
   "id": "bf12442d-17c1-4110-9e33-788a805deb70",
   "metadata": {},
   "source": [
    "### For example, find a book realted to \"Alaska\""
   ]
  },
  {
   "cell_type": "code",
   "execution_count": 13,
   "id": "5c72a05e-181b-4d7e-af98-f7994ea1590e",
   "metadata": {},
   "outputs": [
    {
     "name": "stdout",
     "output_type": "stream",
     "text": [
      "Find me books related to Alaska\n"
     ]
    }
   ],
   "source": [
    "# the Subject of books\n",
    "selection_book =\"Alaska\"\n",
    "\n",
    "# Form the question\n",
    "selection_question= f'Find me books related to {selection_book}'\n",
    "print(selection_question)"
   ]
  },
  {
   "cell_type": "code",
   "execution_count": 14,
   "id": "506f8ea2-14ee-4c0a-a415-13a903af7593",
   "metadata": {},
   "outputs": [],
   "source": [
    "# query\n",
    "query_results = collection.query(\n",
    "    query_texts=[selection_question],\n",
    "    include=[\"documents\", \"distances\", \"metadatas\"],\n",
    "    n_results=3)"
   ]
  },
  {
   "cell_type": "code",
   "execution_count": 15,
   "id": "cd3dc139-a3d9-401e-b50c-7cb1abbb14af",
   "metadata": {
    "scrolled": true
   },
   "outputs": [
    {
     "name": "stdout",
     "output_type": "stream",
     "text": [
      "['5233', '24392', '6017']\n"
     ]
    }
   ],
   "source": [
    "# extract ids\n",
    "query_results_ids = query_results[\"ids\"][0]\n",
    "print(query_results_ids)"
   ]
  },
  {
   "cell_type": "code",
   "execution_count": 16,
   "id": "ad51532b-0cf5-4ff4-a738-d5f4e99b7d55",
   "metadata": {},
   "outputs": [
    {
     "data": {
      "text/html": [
       "<div>\n",
       "<style scoped>\n",
       "    .dataframe tbody tr th:only-of-type {\n",
       "        vertical-align: middle;\n",
       "    }\n",
       "\n",
       "    .dataframe tbody tr th {\n",
       "        vertical-align: top;\n",
       "    }\n",
       "\n",
       "    .dataframe thead th {\n",
       "        text-align: right;\n",
       "    }\n",
       "</style>\n",
       "<table border=\"1\" class=\"dataframe\">\n",
       "  <thead>\n",
       "    <tr style=\"text-align: right;\">\n",
       "      <th></th>\n",
       "      <th>ID</th>\n",
       "      <th>Book</th>\n",
       "      <th>Authors</th>\n",
       "      <th>Subjects</th>\n",
       "      <th>Bookshelves</th>\n",
       "    </tr>\n",
       "  </thead>\n",
       "  <tbody>\n",
       "    <tr>\n",
       "      <th>1447</th>\n",
       "      <td>5233</td>\n",
       "      <td>The Iron Trail</td>\n",
       "      <td>Beach, Rex, 1877-1949</td>\n",
       "      <td>Western stories; Alaska -- Fiction</td>\n",
       "      <td>Movie Books</td>\n",
       "    </tr>\n",
       "    <tr>\n",
       "      <th>1746</th>\n",
       "      <td>6017</td>\n",
       "      <td>The Silver Horde</td>\n",
       "      <td>Beach, Rex, 1877-1949</td>\n",
       "      <td>Alaska -- Fiction</td>\n",
       "      <td>Movie BooksBestsellers, American, 1895-1923</td>\n",
       "    </tr>\n",
       "    <tr>\n",
       "      <th>7408</th>\n",
       "      <td>24392</td>\n",
       "      <td>Cat and Mouse</td>\n",
       "      <td>Williams, Ralph, 1914-1959; Van Dongen, H. R.,...</td>\n",
       "      <td>Science fiction; Alaska -- Fiction; Hunting st...</td>\n",
       "      <td>Science Fiction</td>\n",
       "    </tr>\n",
       "  </tbody>\n",
       "</table>\n",
       "</div>"
      ],
      "text/plain": [
       "         ID              Book  \\\n",
       "1447   5233    The Iron Trail   \n",
       "1746   6017  The Silver Horde   \n",
       "7408  24392     Cat and Mouse   \n",
       "\n",
       "                                                Authors  \\\n",
       "1447                              Beach, Rex, 1877-1949   \n",
       "1746                              Beach, Rex, 1877-1949   \n",
       "7408  Williams, Ralph, 1914-1959; Van Dongen, H. R.,...   \n",
       "\n",
       "                                               Subjects  \\\n",
       "1447                 Western stories; Alaska -- Fiction   \n",
       "1746                                  Alaska -- Fiction   \n",
       "7408  Science fiction; Alaska -- Fiction; Hunting st...   \n",
       "\n",
       "                                      Bookshelves  \n",
       "1447                                  Movie Books  \n",
       "1746  Movie BooksBestsellers, American, 1895-1923  \n",
       "7408                              Science Fiction  "
      ]
     },
     "execution_count": 16,
     "metadata": {},
     "output_type": "execute_result"
    }
   ],
   "source": [
    "# filter the previous dataframe (df_group) by `query_results_ids`\n",
    "query_results_df =  df_group[df_group['ID'].isin(query_results_ids)]\n",
    "query_results_df"
   ]
  }
 ],
 "metadata": {
  "kernelspec": {
   "display_name": "library",
   "language": "python",
   "name": "library"
  },
  "language_info": {
   "codemirror_mode": {
    "name": "ipython",
    "version": 3
   },
   "file_extension": ".py",
   "mimetype": "text/x-python",
   "name": "python",
   "nbconvert_exporter": "python",
   "pygments_lexer": "ipython3",
   "version": "3.11.8"
  }
 },
 "nbformat": 4,
 "nbformat_minor": 5
}
