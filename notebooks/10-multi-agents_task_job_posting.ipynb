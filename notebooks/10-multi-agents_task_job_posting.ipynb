{
 "cells": [
  {
   "cell_type": "markdown",
   "id": "b4ae352b-1d55-45dc-b85c-ba2f0d0158d0",
   "metadata": {},
   "source": [
    "# About\n",
    " * This notebook uses **LLM agents** to post a job. \n",
    "\n",
    "#### a) LLM Agents\n",
    "   * **seeker**: who gathers information about a position (e.g. `a plant scientist`)\n",
    "   * **writer**: who writes a job post\n",
    "\n",
    "    \n",
    "#### b) Tasks\n",
    "   * **searching**: the seeker performs industry analysis, collects information on hiring needs, and lists SEO keywords\n",
    "   * **writing**: the writer uses the information provided and writes a job post\n",
    "\n",
    " \n",
    "#### c) Technical Background\n",
    " * **`gemma-7b-it` LLM model** hosted on **Groq**. \n",
    " * **[crewai](https://github.com/joaomdmoura/crewAI)**, a framework to build multi-agent applications.\n",
    " * The idea and most of the code were taken from [AI Crew for Jobs postings](https://github.com/joaomdmoura/crewAI-examples/tree/main/job-posting). Adjustments were made to the model and tools.\n",
    "\n"
   ]
  },
  {
   "cell_type": "markdown",
   "id": "dedcae4a-d484-476f-b5fa-e66489dfa2f3",
   "metadata": {},
   "source": [
    "# 1. Settings"
   ]
  },
  {
   "cell_type": "code",
   "execution_count": 1,
   "id": "00b58623-af7c-4ffd-a9e0-0b70c53b3597",
   "metadata": {
    "scrolled": true
   },
   "outputs": [],
   "source": [
    "# install packages if needed\n",
    "#%pip install crewai crewai_tools langchain_groq "
   ]
  },
  {
   "cell_type": "markdown",
   "id": "cd7e1204-36fd-4254-8c5b-a20c3edfe127",
   "metadata": {},
   "source": [
    "### Import packages"
   ]
  },
  {
   "cell_type": "code",
   "execution_count": 2,
   "id": "8d21cab5-bd67-4a27-b6ea-aac9d1bedfa5",
   "metadata": {},
   "outputs": [
    {
     "data": {
      "text/plain": [
       "True"
      ]
     },
     "execution_count": 2,
     "metadata": {},
     "output_type": "execute_result"
    }
   ],
   "source": [
    "import os\n",
    "\n",
    "\n",
    "# model\n",
    "from langchain_groq import ChatGroq\n",
    "\n",
    "# agent \n",
    "from crewai import Agent, Task, Crew\n",
    "\n",
    "# agent tools\n",
    "from crewai_tools.tools import EXASearchTool\n",
    "\n",
    "\n",
    "# display results in Markdown format\n",
    "from IPython.display import Markdown\n",
    "\n",
    "# for using GROQ_API and EXA_API_KEY \n",
    "# save GROQ_API_KEY and EXA_API_KEY in a file `.env` then load_dotenv()\n",
    "import dotenv\n",
    "dotenv.load_dotenv()"
   ]
  },
  {
   "cell_type": "markdown",
   "id": "c9088408-de57-428e-ab26-56dccbee3e32",
   "metadata": {},
   "source": [
    "### Provide input information about a position"
   ]
  },
  {
   "cell_type": "code",
   "execution_count": 3,
   "id": "6bbf38b3-d863-4b76-95b3-73144e242c88",
   "metadata": {},
   "outputs": [],
   "source": [
    "company_description = \"A Martian agriculture company\"\n",
    "hiring_needs = \"A remote-working plant scientist focuses on overcoming potato production barriers on Mars\"\n",
    "specific_benefits = \"Your work will have an impact. We offer a competitive salary with high quality health insurance\""
   ]
  },
  {
   "cell_type": "markdown",
   "id": "e5e374fa-12fd-4d4d-a3c3-ce26d5d38b8b",
   "metadata": {},
   "source": [
    "# 2. Create agents"
   ]
  },
  {
   "cell_type": "markdown",
   "id": "14fa98bf-3f74-4640-b5da-b7e15d01e03d",
   "metadata": {},
   "source": [
    "### Model"
   ]
  },
  {
   "cell_type": "code",
   "execution_count": 4,
   "id": "a08f815f-1843-4b88-bfdf-0cb21a55abb8",
   "metadata": {},
   "outputs": [],
   "source": [
    "# llm model \n",
    "llm_model_id =\"gemma-7b-it\"\n",
    "\n",
    "# Use llm model from Groq \n",
    "# Get an API here: https://console.groq.com/keys\n",
    "llm=ChatGroq(temperature=0,\n",
    "             model_name=llm_model_id)"
   ]
  },
  {
   "cell_type": "markdown",
   "id": "9856be9b-5b6f-472a-88a0-ad4b47cccbe5",
   "metadata": {},
   "source": [
    "### Tools"
   ]
  },
  {
   "cell_type": "code",
   "execution_count": 5,
   "id": "ee9f91e6-fad4-489e-bcbd-1a343433b5f3",
   "metadata": {},
   "outputs": [],
   "source": [
    "# Initialize the tool for internet searching capabilities\n",
    "# get an API here: https://dashboard.exa.ai/\n",
    "exa_search_tool = EXASearchTool()\n"
   ]
  },
  {
   "cell_type": "markdown",
   "id": "65c1481d-c47f-4ce7-96d9-bcc50f08f845",
   "metadata": {},
   "source": [
    "### Agent "
   ]
  },
  {
   "cell_type": "code",
   "execution_count": 6,
   "id": "7eeae032-8ca6-4acb-a577-3a1dbad01116",
   "metadata": {
    "scrolled": true
   },
   "outputs": [],
   "source": [
    "# define your agents with roles and goals\n",
    "\n",
    "# role: searching information \n",
    "seeker = Agent(\n",
    "    llm=llm,\n",
    "    role='Research Analyst',\n",
    "    goal='Analyze the company description to generate insights on company values and specific needs.',\n",
    "    tools=[exa_search_tool],\n",
    "    backstory='Expert in identifying key values and needs from various sources, including websites and brief descriptions.',\n",
    "    verbose=True,\n",
    "    allow_delegation=False)\n",
    "\n",
    "# role: writing\n",
    "writer = Agent(\n",
    "    llm=llm,\n",
    "    role='Job Description Writer',\n",
    "    goal='Use insights from the Research Analyst to create a detailed, engaging, and enticing job posting.',\n",
    "    backstory='Skilled in crafting compelling job descriptions that resonate with the company value and attract the right candidates.',\n",
    "    verbose=True,\n",
    "    allow_delegation=False)\n",
    "\n"
   ]
  },
  {
   "cell_type": "markdown",
   "id": "2da77e0d-b0ff-4c72-b748-d0e531ad360c",
   "metadata": {},
   "source": [
    "### Tasks"
   ]
  },
  {
   "cell_type": "code",
   "execution_count": 7,
   "id": "956cd833-d6f8-4f34-8505-321ad92ce7b0",
   "metadata": {},
   "outputs": [],
   "source": [
    "searching = Task(\n",
    "    description=(\n",
    "        f\"\"\"\n",
    "        1. Analyze the provided company description: {company_description}. \n",
    "          Conduct an in-depth analysis of the industry. \n",
    "          Investigate current trends, challenges, and opportunities within the industry, utilizing market reports, recent developments, and expert opinions.\n",
    "          Assess how these factors could impact the role being hired for and the overall attractiveness of the position to potential candidates.\n",
    "\t\t  Consider how the company's position within this industry and its response to these trends could be leveraged to attract top talent. \n",
    "\t\t  Compile a report summarizing these insights, specifically how they can be leveraged in a job posting to attract the right candidates.\n",
    "          Include in your report how the role contributes to addressing industry challenges or seizing opportunities.\n",
    "        2. Based on the hiring needs: {hiring_needs}, identify the key skills, experiences, and qualities the ideal candidate should possess for the role. \n",
    "          Consider the company's competitive landscape and industry trends. \n",
    "          Prepare a list of recommended job requirements and qualifications that align with the company's needs and values.\n",
    "        3. Include SEO keywords\"\"\"\n",
    "    ),\n",
    "    expected_output=\"\"\"A comprehensive report detailing the company's values and mission, along with specific selling points relevant to the job role.\n",
    "    Include a list of recommended skills, experiences, and qualities for the ideal candidate, aligned with the company's values and the specific role's requirements.\n",
    "    List SEO keywords.\n",
    "    \"\"\",\n",
    "    agent=seeker,\n",
    ")\n",
    "\n",
    "writing = Task(\n",
    "    description=(\n",
    "        f\"\"\"1. Draft a job posting for the role described by the hiring manager: {hiring_needs}.\n",
    "          Develop a detailed content outline.\n",
    "          Use the insights on {company_description} to start with a compelling introduction, \n",
    "          followed by a detailed role description, responsibilities, and required skills and qualifications. \n",
    "          Ensure the tone aligns with the company's values and incorporate any unique benefits or opportunities offered by the company.\n",
    "\t\t  Specfic benefits: {specific_benefits}\n",
    "        2. Review the draft job posting for the role:{hiring_needs}. \n",
    "          Check for clarity, engagement, grammatical accuracy, and alignment with the company's values. \n",
    "          Edit and refine the content, ensuring it speaks directly to the desired candidates and accurately reflects the role's unique benefits and opportunities. \n",
    "        3. Incorporate SEO keywords naturally.     \n",
    "        4. Sections/Subtitles are properly named in an engaging manner.\n",
    "        5. Proofread for grammatical errors and add a catchy job post title   \n",
    "      \"\"\"\n",
    "    ),\n",
    "    expected_output=\"\"\"\n",
    "    A detailed, engaging, and polished job posting that includes an introduction, role description, responsibilities, requirements, and unique company benefits.\n",
    "    The tone should resonate with the company's culture and values, aimed at attracting the right candidates.\n",
    "    Formated in markdown.\"\"\",\n",
    "    agent=writer,\n",
    ")\n"
   ]
  },
  {
   "cell_type": "markdown",
   "id": "bedcfccc-6cab-4c85-8150-c4ee87b269a0",
   "metadata": {},
   "source": [
    "### Assemble the crew and assign tasks"
   ]
  },
  {
   "cell_type": "code",
   "execution_count": 8,
   "id": "2b88cf5e-ba67-4cec-913a-b471c281e85b",
   "metadata": {},
   "outputs": [],
   "source": [
    "# instantiate your crew with a sequential process\n",
    "crew = Crew(\n",
    "  agents=[seeker, writer],\n",
    "  tasks=[searching, writing],\n",
    "  verbose=1,\n",
    ")\n"
   ]
  },
  {
   "cell_type": "markdown",
   "id": "a8a3ce0d-2ac7-4bd8-9e4b-6d9fbed7252f",
   "metadata": {},
   "source": [
    "### Kick off"
   ]
  },
  {
   "cell_type": "code",
   "execution_count": 9,
   "id": "e9100bc4-b724-43c1-88a8-1abc428e3183",
   "metadata": {
    "scrolled": true
   },
   "outputs": [
    {
     "name": "stdout",
     "output_type": "stream",
     "text": [
      "\u001b[1m\u001b[95m [2024-06-22 12:32:57][DEBUG]: == Working Agent: Research Analyst\u001b[00m\n",
      "\n",
      "\n",
      "\u001b[1m> Entering new CrewAgentExecutor chain...\u001b[0m\n",
      "\u001b[32;1m\u001b[1;3m\u001b[0m\u001b[32;1m\u001b[1;3m## Final Answer\n",
      "\n",
      "**Thought:** I have analyzed the company description and identified key values, industry trends, and candidate requirements for the remote-working plant scientist role.\n",
      "\n",
      "**Final Answer:**\n",
      "\n",
      "**I. Company Values and Industry Analysis:**\n",
      "\n",
      "The Martian agriculture company prioritizes sustainability, innovation, and collaboration. The industry faces challenges in adapting traditional agricultural practices to Martian conditions, including limited water and soil resources, harsh environmental conditions, and limited infrastructure. Opportunities exist for technological advancements, resource optimization, and sustainable agricultural practices.\n",
      "\n",
      "**II. Key Skills and Qualities for the Role:**\n",
      "\n",
      "- **Technical Expertise:** Deep understanding of plant science, agricultural technologies, and Martian environmental conditions.\n",
      "- **Problem-Solving & Innovation:** Ability to overcome production barriers and develop creative solutions for resource limitations.\n",
      "- **Collaboration & Communication:** Strong teamwork skills and ability to communicate effectively in a remote environment.\n",
      "- **Adaptability & Resilience:** Comfortable working in a challenging environment with limited resources and frequent setbacks.\n",
      "\n",
      "**III. Recommended Job Requirements:**\n",
      "\n",
      "- PhD in Plant Science or related field\n",
      "- 5+ years of experience in agricultural research or development\n",
      "- Expertise in hydroponics, greenhouse management, and resource optimization\n",
      "- Familiarity with Martian soil and atmospheric conditions\n",
      "- Excellent communication and teamwork skills\n",
      "\n",
      "**IV. SEO Keywords:**\n",
      "\n",
      "- Martian agriculture\n",
      "- Plant science\n",
      "- Sustainable agriculture\n",
      "- Resource optimization\n",
      "- Green technology\n",
      "- Remote work\n",
      "- Plant production\n",
      "- Mars farming\n",
      "\n",
      "**V. Leveraging Industry Insights for Recruitment:**\n",
      "\n",
      "- **Highlight company values:** Emphasize the company's commitment to sustainability, innovation, and collaboration.\n",
      "- **Showcase industry trends:** Explain the exciting opportunities to address Martian agricultural challenges and contribute to scientific advancements.\n",
      "- **Emphasize competitive compensation:** Offer competitive salaries and benefits packages.\n",
      "- **Remote work flexibility:** Highlight the opportunity to work from a remote location with global connectivity.\n",
      "\n",
      "**Conclusion:**\n",
      "\n",
      "By leveraging these insights, the Martian agriculture company can effectively attract top-tier plant scientists who are passionate about tackling industry challenges and contributing to the future of Martian agriculture.\u001b[0m\n",
      "\n",
      "\u001b[1m> Finished chain.\u001b[0m\n",
      "\u001b[1m\u001b[92m [2024-06-22 12:33:00][DEBUG]: == [Research Analyst] Task output: **\n",
      "\n",
      "**I. Company Values and Industry Analysis:**\n",
      "\n",
      "The Martian agriculture company prioritizes sustainability, innovation, and collaboration. The industry faces challenges in adapting traditional agricultural practices to Martian conditions, including limited water and soil resources, harsh environmental conditions, and limited infrastructure. Opportunities exist for technological advancements, resource optimization, and sustainable agricultural practices.\n",
      "\n",
      "**II. Key Skills and Qualities for the Role:**\n",
      "\n",
      "- **Technical Expertise:** Deep understanding of plant science, agricultural technologies, and Martian environmental conditions.\n",
      "- **Problem-Solving & Innovation:** Ability to overcome production barriers and develop creative solutions for resource limitations.\n",
      "- **Collaboration & Communication:** Strong teamwork skills and ability to communicate effectively in a remote environment.\n",
      "- **Adaptability & Resilience:** Comfortable working in a challenging environment with limited resources and frequent setbacks.\n",
      "\n",
      "**III. Recommended Job Requirements:**\n",
      "\n",
      "- PhD in Plant Science or related field\n",
      "- 5+ years of experience in agricultural research or development\n",
      "- Expertise in hydroponics, greenhouse management, and resource optimization\n",
      "- Familiarity with Martian soil and atmospheric conditions\n",
      "- Excellent communication and teamwork skills\n",
      "\n",
      "**IV. SEO Keywords:**\n",
      "\n",
      "- Martian agriculture\n",
      "- Plant science\n",
      "- Sustainable agriculture\n",
      "- Resource optimization\n",
      "- Green technology\n",
      "- Remote work\n",
      "- Plant production\n",
      "- Mars farming\n",
      "\n",
      "**V. Leveraging Industry Insights for Recruitment:**\n",
      "\n",
      "- **Highlight company values:** Emphasize the company's commitment to sustainability, innovation, and collaboration.\n",
      "- **Showcase industry trends:** Explain the exciting opportunities to address Martian agricultural challenges and contribute to scientific advancements.\n",
      "- **Emphasize competitive compensation:** Offer competitive salaries and benefits packages.\n",
      "- **Remote work flexibility:** Highlight the opportunity to work from a remote location with global connectivity.\n",
      "\n",
      "**Conclusion:**\n",
      "\n",
      "By leveraging these insights, the Martian agriculture company can effectively attract top-tier plant scientists who are passionate about tackling industry challenges and contributing to the future of Martian agriculture.\n",
      "\n",
      "\u001b[00m\n",
      "\u001b[1m\u001b[95m [2024-06-22 12:33:00][DEBUG]: == Working Agent: Job Description Writer\u001b[00m\n",
      "\n",
      "\n",
      "\u001b[1m> Entering new CrewAgentExecutor chain...\u001b[0m\n",
      "\u001b[32;1m\u001b[1;3m## **Plant Scientist - Martian Agriculture Pioneer**\n",
      "\n",
      "**Final Answer:**\n",
      "\n",
      "## **Plant Scientist - Martian Agriculture Pioneer**\n",
      "\n",
      "### **Introduction**\n",
      "\n",
      "Join our revolutionary team of Martian agricultural pioneers at [Company Name]! We're seeking a visionary Plant Scientist to spearhead our mission to overcome potato production barriers on Mars. If you have a deep-seated passion for plant science, a knack for solving complex problems, and a desire to push the boundaries of agricultural innovation, this is your chance to make history.\n",
      "\n",
      "### **About Our Company**\n",
      "\n",
      "At [Company Name], we believe in the power of sustainable agriculture to nourish a growing population on Mars. We're driven by a commitment to innovation, collaboration, and environmental responsibility. Our team of experts is dedicated to transforming Martian agriculture through technological advancements, resource optimization, and sustainable practices.\n",
      "\n",
      "### **Role Overview**\n",
      "\n",
      "As a Plant Scientist, you will play a pivotal role in developing and implementing cutting-edge technologies to overcome the unique challenges of Martian agriculture. You will work collaboratively with our team to:\n",
      "\n",
      "- Develop and implement sustainable potato production systems\n",
      "- Optimize resource utilization through innovative technologies\n",
      "- Analyze and mitigate environmental factors limiting plant growth\n",
      "- Monitor and improve soil health and fertility\n",
      "- Collaborate with engineers and researchers to find creative solutions to production barriers\n",
      "\n",
      "\n",
      "### **Responsibilities**\n",
      "\n",
      "- Design and conduct experiments to optimize potato growth and yield\n",
      "- Develop and implement resource-efficient irrigation and nutrient management strategies\n",
      "- Analyze soil composition and atmospheric conditions to identify potential limitations\n",
      "- Evaluate and refine agricultural technologies for Martian conditions\n",
      "- Communicate research findings and recommendations to stakeholders\n",
      "\n",
      "\n",
      "### **Required Skills and Qualifications**\n",
      "\n",
      "- PhD in Plant Science or related field\n",
      "- 5+ years of experience in agricultural research or development\n",
      "- Expertise in hydroponics, greenhouse management, and resource optimization\n",
      "- Familiarity with Martian soil and atmospheric conditions\n",
      "- Excellent communication and teamwork skills\n",
      "\n",
      "\n",
      "### **Unique Benefits and Opportunities**\n",
      "\n",
      "- Competitive salary and benefits package\n",
      "- Opportunity to work on the forefront of Martian agriculture\n",
      "- Global connectivity and remote work flexibility\n",
      "- Be part of a passionate and innovative team\n",
      "- Make a tangible impact on the future of food production on Mars\n",
      "\n",
      "\n",
      "**Join us and become a Martian Agriculture Pioneer! Apply today and shape the future of agriculture on the Red Planet!**\u001b[0m\n",
      "\n",
      "\u001b[1m> Finished chain.\u001b[0m\n",
      "\u001b[1m\u001b[92m [2024-06-22 12:33:02][DEBUG]: == [Job Description Writer] Task output: **\n",
      "\n",
      "## **Plant Scientist - Martian Agriculture Pioneer**\n",
      "\n",
      "### **Introduction**\n",
      "\n",
      "Join our revolutionary team of Martian agricultural pioneers at [Company Name]! We're seeking a visionary Plant Scientist to spearhead our mission to overcome potato production barriers on Mars. If you have a deep-seated passion for plant science, a knack for solving complex problems, and a desire to push the boundaries of agricultural innovation, this is your chance to make history.\n",
      "\n",
      "### **About Our Company**\n",
      "\n",
      "At [Company Name], we believe in the power of sustainable agriculture to nourish a growing population on Mars. We're driven by a commitment to innovation, collaboration, and environmental responsibility. Our team of experts is dedicated to transforming Martian agriculture through technological advancements, resource optimization, and sustainable practices.\n",
      "\n",
      "### **Role Overview**\n",
      "\n",
      "As a Plant Scientist, you will play a pivotal role in developing and implementing cutting-edge technologies to overcome the unique challenges of Martian agriculture. You will work collaboratively with our team to:\n",
      "\n",
      "- Develop and implement sustainable potato production systems\n",
      "- Optimize resource utilization through innovative technologies\n",
      "- Analyze and mitigate environmental factors limiting plant growth\n",
      "- Monitor and improve soil health and fertility\n",
      "- Collaborate with engineers and researchers to find creative solutions to production barriers\n",
      "\n",
      "\n",
      "### **Responsibilities**\n",
      "\n",
      "- Design and conduct experiments to optimize potato growth and yield\n",
      "- Develop and implement resource-efficient irrigation and nutrient management strategies\n",
      "- Analyze soil composition and atmospheric conditions to identify potential limitations\n",
      "- Evaluate and refine agricultural technologies for Martian conditions\n",
      "- Communicate research findings and recommendations to stakeholders\n",
      "\n",
      "\n",
      "### **Required Skills and Qualifications**\n",
      "\n",
      "- PhD in Plant Science or related field\n",
      "- 5+ years of experience in agricultural research or development\n",
      "- Expertise in hydroponics, greenhouse management, and resource optimization\n",
      "- Familiarity with Martian soil and atmospheric conditions\n",
      "- Excellent communication and teamwork skills\n",
      "\n",
      "\n",
      "### **Unique Benefits and Opportunities**\n",
      "\n",
      "- Competitive salary and benefits package\n",
      "- Opportunity to work on the forefront of Martian agriculture\n",
      "- Global connectivity and remote work flexibility\n",
      "- Be part of a passionate and innovative team\n",
      "- Make a tangible impact on the future of food production on Mars\n",
      "\n",
      "\n",
      "**Join us and become a Martian Agriculture Pioneer! Apply today and shape the future of agriculture on the Red Planet!**\n",
      "\n",
      "\u001b[00m\n"
     ]
    }
   ],
   "source": [
    "# get your crew to work!\n",
    "result = crew.kickoff()\n"
   ]
  },
  {
   "cell_type": "markdown",
   "id": "42332b4a-4b8d-4db7-abdf-a970b6ea0f20",
   "metadata": {},
   "source": [
    "# 3. Result"
   ]
  },
  {
   "cell_type": "code",
   "execution_count": 10,
   "id": "a4306ba2-73b5-4b46-864d-5b1d69d02d06",
   "metadata": {},
   "outputs": [
    {
     "data": {
      "text/markdown": [
       "**\n",
       "\n",
       "## **Plant Scientist - Martian Agriculture Pioneer**\n",
       "\n",
       "### **Introduction**\n",
       "\n",
       "Join our revolutionary team of Martian agricultural pioneers at [Company Name]! We're seeking a visionary Plant Scientist to spearhead our mission to overcome potato production barriers on Mars. If you have a deep-seated passion for plant science, a knack for solving complex problems, and a desire to push the boundaries of agricultural innovation, this is your chance to make history.\n",
       "\n",
       "### **About Our Company**\n",
       "\n",
       "At [Company Name], we believe in the power of sustainable agriculture to nourish a growing population on Mars. We're driven by a commitment to innovation, collaboration, and environmental responsibility. Our team of experts is dedicated to transforming Martian agriculture through technological advancements, resource optimization, and sustainable practices.\n",
       "\n",
       "### **Role Overview**\n",
       "\n",
       "As a Plant Scientist, you will play a pivotal role in developing and implementing cutting-edge technologies to overcome the unique challenges of Martian agriculture. You will work collaboratively with our team to:\n",
       "\n",
       "- Develop and implement sustainable potato production systems\n",
       "- Optimize resource utilization through innovative technologies\n",
       "- Analyze and mitigate environmental factors limiting plant growth\n",
       "- Monitor and improve soil health and fertility\n",
       "- Collaborate with engineers and researchers to find creative solutions to production barriers\n",
       "\n",
       "\n",
       "### **Responsibilities**\n",
       "\n",
       "- Design and conduct experiments to optimize potato growth and yield\n",
       "- Develop and implement resource-efficient irrigation and nutrient management strategies\n",
       "- Analyze soil composition and atmospheric conditions to identify potential limitations\n",
       "- Evaluate and refine agricultural technologies for Martian conditions\n",
       "- Communicate research findings and recommendations to stakeholders\n",
       "\n",
       "\n",
       "### **Required Skills and Qualifications**\n",
       "\n",
       "- PhD in Plant Science or related field\n",
       "- 5+ years of experience in agricultural research or development\n",
       "- Expertise in hydroponics, greenhouse management, and resource optimization\n",
       "- Familiarity with Martian soil and atmospheric conditions\n",
       "- Excellent communication and teamwork skills\n",
       "\n",
       "\n",
       "### **Unique Benefits and Opportunities**\n",
       "\n",
       "- Competitive salary and benefits package\n",
       "- Opportunity to work on the forefront of Martian agriculture\n",
       "- Global connectivity and remote work flexibility\n",
       "- Be part of a passionate and innovative team\n",
       "- Make a tangible impact on the future of food production on Mars\n",
       "\n",
       "\n",
       "**Join us and become a Martian Agriculture Pioneer! Apply today and shape the future of agriculture on the Red Planet!**"
      ],
      "text/plain": [
       "<IPython.core.display.Markdown object>"
      ]
     },
     "execution_count": 10,
     "metadata": {},
     "output_type": "execute_result"
    }
   ],
   "source": [
    "Markdown(result)"
   ]
  }
 ],
 "metadata": {
  "kernelspec": {
   "display_name": "library",
   "language": "python",
   "name": "library"
  },
  "language_info": {
   "codemirror_mode": {
    "name": "ipython",
    "version": 3
   },
   "file_extension": ".py",
   "mimetype": "text/x-python",
   "name": "python",
   "nbconvert_exporter": "python",
   "pygments_lexer": "ipython3",
   "version": "3.11.9"
  }
 },
 "nbformat": 4,
 "nbformat_minor": 5
}
